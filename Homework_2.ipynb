{
  "nbformat": 4,
  "nbformat_minor": 0,
  "metadata": {
    "colab": {
      "name": " Homework 2.ipynb",
      "provenance": [],
      "collapsed_sections": [
        "gAkuZvRnUDdh",
        "Hmtf9LaCUYPm",
        "ArBvQWbtn14J"
      ],
      "toc_visible": true,
      "mount_file_id": "1CvA_RWpVaS0KmXli0SMR8QvMq-7G5Tf5",
      "authorship_tag": "ABX9TyO77sKla+m7Yt3TbF3wzoyI",
      "include_colab_link": true
    },
    "kernelspec": {
      "display_name": "Python 3",
      "name": "python3"
    }
  },
  "cells": [
    {
      "cell_type": "markdown",
      "metadata": {
        "id": "view-in-github",
        "colab_type": "text"
      },
      "source": [
        "<a href=\"https://colab.research.google.com/github/AliaaElshamekh/Parameter-tuning-and-Cross-validation-with-different-classifiers/blob/main/Homework_2.ipynb\" target=\"_parent\"><img src=\"https://colab.research.google.com/assets/colab-badge.svg\" alt=\"Open In Colab\"/></a>"
      ]
    },
    {
      "cell_type": "markdown",
      "metadata": {
        "id": "gAkuZvRnUDdh"
      },
      "source": [
        "# Libraries Import"
      ]
    },
    {
      "cell_type": "code",
      "metadata": {
        "id": "xDZ8jn-ZN1nf"
      },
      "source": [
        "import pandas as pd\n",
        "import numpy as np\n",
        "from sklearn.neighbors import KNeighborsRegressor\n",
        "from sklearn import metrics\n",
        "import matplotlib.pyplot as plt\n",
        "from sklearn import linear_model\n",
        "from sklearn.linear_model import LinearRegression\n",
        "from sklearn.linear_model import Lasso\n",
        "from sklearn.linear_model import Ridge\n",
        "from sklearn.preprocessing import scale \n",
        "from sklearn.model_selection import GridSearchCV\n",
        "from sklearn.linear_model import Ridge\n",
        "import warnings\n",
        "import matplotlib.pyplot as plt\n",
        "import math \n",
        "from sklearn.metrics import mean_squared_error \n",
        "warnings.filterwarnings(\"ignore\")\n",
        "from sklearn.preprocessing import StandardScaler\n",
        "from sklearn.metrics import confusion_matrix\n",
        "from sklearn.svm import LinearSVC\n",
        "from sklearn import preprocessing\n",
        "from sklearn.linear_model import LogisticRegression\n",
        "from sklearn.model_selection import KFold\n",
        "\n",
        "from sklearn.model_selection import cross_val_score,cross_val_predict\n",
        "from sklearn.naive_bayes import GaussianNB\n",
        "from sklearn.ensemble import RandomForestClassifier\n",
        "from sklearn.datasets import make_classification\n",
        "from sklearn.ensemble import GradientBoostingClassifier\n",
        "\n",
        "from sklearn.metrics import classification_report\n",
        "from sklearn import tree\n",
        "import seaborn as sns\n",
        "from sklearn.naive_bayes import BernoulliNB\n",
        "from sklearn.model_selection import validation_curve"
      ],
      "execution_count": null,
      "outputs": []
    },
    {
      "cell_type": "markdown",
      "metadata": {
        "id": "Hmtf9LaCUYPm"
      },
      "source": [
        "# *Load* *data*\n",
        "\n"
      ]
    },
    {
      "cell_type": "code",
      "metadata": {
        "colab": {
          "base_uri": "https://localhost:8080/"
        },
        "id": "GgAOZizQSSky",
        "outputId": "c6b1f917-9f05-42c6-eb0c-ec4c73ba7a20"
      },
      "source": [
        "X_traindf = pd.read_csv('X_train.csv')\n",
        "X_testdf = pd.read_csv('X_test.csv')\n",
        "y_traindf = pd.read_csv('y_train.csv')\n",
        "y_testdf = pd.read_csv('y_test.csv')\n",
        "X_traindf.head()\n"
      ],
      "execution_count": null,
      "outputs": [
        {
          "output_type": "execute_result",
          "data": {
            "text/html": [
              "<div>\n",
              "<style scoped>\n",
              "    .dataframe tbody tr th:only-of-type {\n",
              "        vertical-align: middle;\n",
              "    }\n",
              "\n",
              "    .dataframe tbody tr th {\n",
              "        vertical-align: top;\n",
              "    }\n",
              "\n",
              "    .dataframe thead th {\n",
              "        text-align: right;\n",
              "    }\n",
              "</style>\n",
              "<table border=\"1\" class=\"dataframe\">\n",
              "  <thead>\n",
              "    <tr style=\"text-align: right;\">\n",
              "      <th></th>\n",
              "      <th>0.0</th>\n",
              "      <th>1.0</th>\n",
              "      <th>1.0.1</th>\n",
              "      <th>0.0.1</th>\n",
              "      <th>1.0.2</th>\n",
              "      <th>1.0.3</th>\n",
              "      <th>1.0.4</th>\n",
              "      <th>1.0.5</th>\n",
              "      <th>1.0.6</th>\n",
              "      <th>1.0.7</th>\n",
              "      <th>0.0.2</th>\n",
              "      <th>0.0.3</th>\n",
              "      <th>1.0.8</th>\n",
              "      <th>1.0.9</th>\n",
              "      <th>1.0.10</th>\n",
              "      <th>1.0.11</th>\n",
              "      <th>1.0.12</th>\n",
              "      <th>1.0.13</th>\n",
              "      <th>1.0.14</th>\n",
              "      <th>1.0.15</th>\n",
              "      <th>0.0.4</th>\n",
              "      <th>1.0.16</th>\n",
              "      <th>1.0.17</th>\n",
              "      <th>0.0.5</th>\n",
              "      <th>0.0.6</th>\n",
              "      <th>1.0.18</th>\n",
              "      <th>1.0.19</th>\n",
              "      <th>0.0.7</th>\n",
              "      <th>1.0.20</th>\n",
              "      <th>0.0.8</th>\n",
              "      <th>1.0.21</th>\n",
              "      <th>0.0.9</th>\n",
              "      <th>1.0.22</th>\n",
              "      <th>1.0.23</th>\n",
              "      <th>0.0.10</th>\n",
              "      <th>1.0.24</th>\n",
              "      <th>1.0.25</th>\n",
              "      <th>0.0.11</th>\n",
              "      <th>1.0.26</th>\n",
              "      <th>1.0.27</th>\n",
              "      <th>...</th>\n",
              "      <th>0.0.864</th>\n",
              "      <th>0.0.865</th>\n",
              "      <th>0.0.866</th>\n",
              "      <th>0.0.867</th>\n",
              "      <th>0.0.868</th>\n",
              "      <th>0.0.869</th>\n",
              "      <th>0.0.870</th>\n",
              "      <th>0.0.871</th>\n",
              "      <th>0.0.872</th>\n",
              "      <th>0.0.873</th>\n",
              "      <th>0.0.874</th>\n",
              "      <th>0.0.875</th>\n",
              "      <th>0.0.876</th>\n",
              "      <th>1.0.96</th>\n",
              "      <th>0.0.877</th>\n",
              "      <th>0.0.878</th>\n",
              "      <th>0.0.879</th>\n",
              "      <th>0.0.880</th>\n",
              "      <th>0.0.881</th>\n",
              "      <th>0.0.882</th>\n",
              "      <th>0.0.883</th>\n",
              "      <th>0.0.884</th>\n",
              "      <th>0.0.885</th>\n",
              "      <th>0.0.886</th>\n",
              "      <th>0.0.887</th>\n",
              "      <th>0.0.888</th>\n",
              "      <th>0.0.889</th>\n",
              "      <th>0.0.890</th>\n",
              "      <th>0.0.891</th>\n",
              "      <th>0.0.892</th>\n",
              "      <th>0.0.893</th>\n",
              "      <th>0.0.894</th>\n",
              "      <th>0.0.895</th>\n",
              "      <th>0.0.896</th>\n",
              "      <th>0.0.897</th>\n",
              "      <th>0.0.898</th>\n",
              "      <th>0.0.899</th>\n",
              "      <th>0.0.900</th>\n",
              "      <th>0.0.901</th>\n",
              "      <th>0.0.902</th>\n",
              "    </tr>\n",
              "  </thead>\n",
              "  <tbody>\n",
              "    <tr>\n",
              "      <th>0</th>\n",
              "      <td>0.0</td>\n",
              "      <td>1.0</td>\n",
              "      <td>1.0</td>\n",
              "      <td>0.0</td>\n",
              "      <td>1.0</td>\n",
              "      <td>1.0</td>\n",
              "      <td>1.0</td>\n",
              "      <td>1.0</td>\n",
              "      <td>1.0</td>\n",
              "      <td>1.0</td>\n",
              "      <td>0.0</td>\n",
              "      <td>1.0</td>\n",
              "      <td>0.0</td>\n",
              "      <td>1.0</td>\n",
              "      <td>1.0</td>\n",
              "      <td>1.0</td>\n",
              "      <td>1.0</td>\n",
              "      <td>0.0</td>\n",
              "      <td>1.0</td>\n",
              "      <td>1.0</td>\n",
              "      <td>1.0</td>\n",
              "      <td>1.0</td>\n",
              "      <td>1.0</td>\n",
              "      <td>1.0</td>\n",
              "      <td>0.0</td>\n",
              "      <td>0.0</td>\n",
              "      <td>1.0</td>\n",
              "      <td>0.0</td>\n",
              "      <td>1.0</td>\n",
              "      <td>1.0</td>\n",
              "      <td>1.0</td>\n",
              "      <td>0.0</td>\n",
              "      <td>1.0</td>\n",
              "      <td>1.0</td>\n",
              "      <td>0.0</td>\n",
              "      <td>1.0</td>\n",
              "      <td>0.0</td>\n",
              "      <td>1.0</td>\n",
              "      <td>1.0</td>\n",
              "      <td>0.0</td>\n",
              "      <td>...</td>\n",
              "      <td>0.0</td>\n",
              "      <td>0.0</td>\n",
              "      <td>0.0</td>\n",
              "      <td>0.0</td>\n",
              "      <td>0.0</td>\n",
              "      <td>0.0</td>\n",
              "      <td>0.0</td>\n",
              "      <td>0.0</td>\n",
              "      <td>0.0</td>\n",
              "      <td>0.0</td>\n",
              "      <td>0.0</td>\n",
              "      <td>0.0</td>\n",
              "      <td>0.0</td>\n",
              "      <td>0.0</td>\n",
              "      <td>0.0</td>\n",
              "      <td>0.0</td>\n",
              "      <td>0.0</td>\n",
              "      <td>0.0</td>\n",
              "      <td>0.0</td>\n",
              "      <td>0.0</td>\n",
              "      <td>0.0</td>\n",
              "      <td>0.0</td>\n",
              "      <td>0.0</td>\n",
              "      <td>0.0</td>\n",
              "      <td>0.0</td>\n",
              "      <td>0.0</td>\n",
              "      <td>0.0</td>\n",
              "      <td>0.0</td>\n",
              "      <td>0.0</td>\n",
              "      <td>0.0</td>\n",
              "      <td>0.0</td>\n",
              "      <td>0.0</td>\n",
              "      <td>0.0</td>\n",
              "      <td>0.0</td>\n",
              "      <td>0.0</td>\n",
              "      <td>0.0</td>\n",
              "      <td>0.0</td>\n",
              "      <td>0.0</td>\n",
              "      <td>0.0</td>\n",
              "      <td>0.0</td>\n",
              "    </tr>\n",
              "    <tr>\n",
              "      <th>1</th>\n",
              "      <td>0.0</td>\n",
              "      <td>1.0</td>\n",
              "      <td>1.0</td>\n",
              "      <td>0.0</td>\n",
              "      <td>1.0</td>\n",
              "      <td>0.0</td>\n",
              "      <td>1.0</td>\n",
              "      <td>1.0</td>\n",
              "      <td>1.0</td>\n",
              "      <td>1.0</td>\n",
              "      <td>0.0</td>\n",
              "      <td>1.0</td>\n",
              "      <td>1.0</td>\n",
              "      <td>1.0</td>\n",
              "      <td>1.0</td>\n",
              "      <td>1.0</td>\n",
              "      <td>1.0</td>\n",
              "      <td>0.0</td>\n",
              "      <td>1.0</td>\n",
              "      <td>1.0</td>\n",
              "      <td>0.0</td>\n",
              "      <td>1.0</td>\n",
              "      <td>1.0</td>\n",
              "      <td>1.0</td>\n",
              "      <td>0.0</td>\n",
              "      <td>0.0</td>\n",
              "      <td>0.0</td>\n",
              "      <td>0.0</td>\n",
              "      <td>1.0</td>\n",
              "      <td>0.0</td>\n",
              "      <td>1.0</td>\n",
              "      <td>1.0</td>\n",
              "      <td>0.0</td>\n",
              "      <td>1.0</td>\n",
              "      <td>0.0</td>\n",
              "      <td>1.0</td>\n",
              "      <td>1.0</td>\n",
              "      <td>0.0</td>\n",
              "      <td>0.0</td>\n",
              "      <td>0.0</td>\n",
              "      <td>...</td>\n",
              "      <td>0.0</td>\n",
              "      <td>0.0</td>\n",
              "      <td>0.0</td>\n",
              "      <td>0.0</td>\n",
              "      <td>0.0</td>\n",
              "      <td>0.0</td>\n",
              "      <td>0.0</td>\n",
              "      <td>0.0</td>\n",
              "      <td>0.0</td>\n",
              "      <td>0.0</td>\n",
              "      <td>0.0</td>\n",
              "      <td>0.0</td>\n",
              "      <td>0.0</td>\n",
              "      <td>0.0</td>\n",
              "      <td>0.0</td>\n",
              "      <td>0.0</td>\n",
              "      <td>0.0</td>\n",
              "      <td>0.0</td>\n",
              "      <td>0.0</td>\n",
              "      <td>0.0</td>\n",
              "      <td>0.0</td>\n",
              "      <td>0.0</td>\n",
              "      <td>0.0</td>\n",
              "      <td>0.0</td>\n",
              "      <td>0.0</td>\n",
              "      <td>0.0</td>\n",
              "      <td>0.0</td>\n",
              "      <td>0.0</td>\n",
              "      <td>0.0</td>\n",
              "      <td>0.0</td>\n",
              "      <td>0.0</td>\n",
              "      <td>0.0</td>\n",
              "      <td>0.0</td>\n",
              "      <td>0.0</td>\n",
              "      <td>0.0</td>\n",
              "      <td>0.0</td>\n",
              "      <td>0.0</td>\n",
              "      <td>0.0</td>\n",
              "      <td>0.0</td>\n",
              "      <td>0.0</td>\n",
              "    </tr>\n",
              "    <tr>\n",
              "      <th>2</th>\n",
              "      <td>0.0</td>\n",
              "      <td>1.0</td>\n",
              "      <td>1.0</td>\n",
              "      <td>0.0</td>\n",
              "      <td>1.0</td>\n",
              "      <td>1.0</td>\n",
              "      <td>1.0</td>\n",
              "      <td>1.0</td>\n",
              "      <td>1.0</td>\n",
              "      <td>1.0</td>\n",
              "      <td>1.0</td>\n",
              "      <td>1.0</td>\n",
              "      <td>1.0</td>\n",
              "      <td>1.0</td>\n",
              "      <td>1.0</td>\n",
              "      <td>1.0</td>\n",
              "      <td>1.0</td>\n",
              "      <td>1.0</td>\n",
              "      <td>0.0</td>\n",
              "      <td>1.0</td>\n",
              "      <td>0.0</td>\n",
              "      <td>1.0</td>\n",
              "      <td>1.0</td>\n",
              "      <td>1.0</td>\n",
              "      <td>0.0</td>\n",
              "      <td>1.0</td>\n",
              "      <td>1.0</td>\n",
              "      <td>1.0</td>\n",
              "      <td>0.0</td>\n",
              "      <td>1.0</td>\n",
              "      <td>1.0</td>\n",
              "      <td>1.0</td>\n",
              "      <td>1.0</td>\n",
              "      <td>1.0</td>\n",
              "      <td>0.0</td>\n",
              "      <td>1.0</td>\n",
              "      <td>1.0</td>\n",
              "      <td>1.0</td>\n",
              "      <td>1.0</td>\n",
              "      <td>1.0</td>\n",
              "      <td>...</td>\n",
              "      <td>0.0</td>\n",
              "      <td>0.0</td>\n",
              "      <td>0.0</td>\n",
              "      <td>0.0</td>\n",
              "      <td>0.0</td>\n",
              "      <td>0.0</td>\n",
              "      <td>0.0</td>\n",
              "      <td>0.0</td>\n",
              "      <td>0.0</td>\n",
              "      <td>0.0</td>\n",
              "      <td>0.0</td>\n",
              "      <td>0.0</td>\n",
              "      <td>0.0</td>\n",
              "      <td>0.0</td>\n",
              "      <td>0.0</td>\n",
              "      <td>0.0</td>\n",
              "      <td>0.0</td>\n",
              "      <td>0.0</td>\n",
              "      <td>0.0</td>\n",
              "      <td>0.0</td>\n",
              "      <td>0.0</td>\n",
              "      <td>0.0</td>\n",
              "      <td>0.0</td>\n",
              "      <td>0.0</td>\n",
              "      <td>0.0</td>\n",
              "      <td>1.0</td>\n",
              "      <td>0.0</td>\n",
              "      <td>0.0</td>\n",
              "      <td>0.0</td>\n",
              "      <td>0.0</td>\n",
              "      <td>0.0</td>\n",
              "      <td>0.0</td>\n",
              "      <td>0.0</td>\n",
              "      <td>0.0</td>\n",
              "      <td>0.0</td>\n",
              "      <td>0.0</td>\n",
              "      <td>0.0</td>\n",
              "      <td>0.0</td>\n",
              "      <td>0.0</td>\n",
              "      <td>0.0</td>\n",
              "    </tr>\n",
              "    <tr>\n",
              "      <th>3</th>\n",
              "      <td>0.0</td>\n",
              "      <td>1.0</td>\n",
              "      <td>1.0</td>\n",
              "      <td>0.0</td>\n",
              "      <td>1.0</td>\n",
              "      <td>1.0</td>\n",
              "      <td>1.0</td>\n",
              "      <td>1.0</td>\n",
              "      <td>1.0</td>\n",
              "      <td>0.0</td>\n",
              "      <td>1.0</td>\n",
              "      <td>1.0</td>\n",
              "      <td>1.0</td>\n",
              "      <td>1.0</td>\n",
              "      <td>1.0</td>\n",
              "      <td>1.0</td>\n",
              "      <td>1.0</td>\n",
              "      <td>0.0</td>\n",
              "      <td>1.0</td>\n",
              "      <td>1.0</td>\n",
              "      <td>1.0</td>\n",
              "      <td>0.0</td>\n",
              "      <td>1.0</td>\n",
              "      <td>0.0</td>\n",
              "      <td>0.0</td>\n",
              "      <td>1.0</td>\n",
              "      <td>0.0</td>\n",
              "      <td>0.0</td>\n",
              "      <td>1.0</td>\n",
              "      <td>0.0</td>\n",
              "      <td>0.0</td>\n",
              "      <td>0.0</td>\n",
              "      <td>1.0</td>\n",
              "      <td>1.0</td>\n",
              "      <td>0.0</td>\n",
              "      <td>1.0</td>\n",
              "      <td>0.0</td>\n",
              "      <td>0.0</td>\n",
              "      <td>0.0</td>\n",
              "      <td>0.0</td>\n",
              "      <td>...</td>\n",
              "      <td>0.0</td>\n",
              "      <td>0.0</td>\n",
              "      <td>0.0</td>\n",
              "      <td>0.0</td>\n",
              "      <td>0.0</td>\n",
              "      <td>0.0</td>\n",
              "      <td>0.0</td>\n",
              "      <td>0.0</td>\n",
              "      <td>0.0</td>\n",
              "      <td>0.0</td>\n",
              "      <td>0.0</td>\n",
              "      <td>0.0</td>\n",
              "      <td>0.0</td>\n",
              "      <td>0.0</td>\n",
              "      <td>0.0</td>\n",
              "      <td>0.0</td>\n",
              "      <td>0.0</td>\n",
              "      <td>0.0</td>\n",
              "      <td>0.0</td>\n",
              "      <td>0.0</td>\n",
              "      <td>0.0</td>\n",
              "      <td>0.0</td>\n",
              "      <td>0.0</td>\n",
              "      <td>0.0</td>\n",
              "      <td>0.0</td>\n",
              "      <td>0.0</td>\n",
              "      <td>0.0</td>\n",
              "      <td>0.0</td>\n",
              "      <td>1.0</td>\n",
              "      <td>0.0</td>\n",
              "      <td>0.0</td>\n",
              "      <td>0.0</td>\n",
              "      <td>0.0</td>\n",
              "      <td>0.0</td>\n",
              "      <td>0.0</td>\n",
              "      <td>0.0</td>\n",
              "      <td>0.0</td>\n",
              "      <td>0.0</td>\n",
              "      <td>0.0</td>\n",
              "      <td>0.0</td>\n",
              "    </tr>\n",
              "    <tr>\n",
              "      <th>4</th>\n",
              "      <td>0.0</td>\n",
              "      <td>1.0</td>\n",
              "      <td>1.0</td>\n",
              "      <td>0.0</td>\n",
              "      <td>1.0</td>\n",
              "      <td>0.0</td>\n",
              "      <td>0.0</td>\n",
              "      <td>0.0</td>\n",
              "      <td>1.0</td>\n",
              "      <td>0.0</td>\n",
              "      <td>1.0</td>\n",
              "      <td>0.0</td>\n",
              "      <td>1.0</td>\n",
              "      <td>0.0</td>\n",
              "      <td>0.0</td>\n",
              "      <td>1.0</td>\n",
              "      <td>1.0</td>\n",
              "      <td>0.0</td>\n",
              "      <td>0.0</td>\n",
              "      <td>0.0</td>\n",
              "      <td>0.0</td>\n",
              "      <td>0.0</td>\n",
              "      <td>0.0</td>\n",
              "      <td>0.0</td>\n",
              "      <td>1.0</td>\n",
              "      <td>0.0</td>\n",
              "      <td>0.0</td>\n",
              "      <td>0.0</td>\n",
              "      <td>0.0</td>\n",
              "      <td>0.0</td>\n",
              "      <td>0.0</td>\n",
              "      <td>0.0</td>\n",
              "      <td>1.0</td>\n",
              "      <td>0.0</td>\n",
              "      <td>0.0</td>\n",
              "      <td>0.0</td>\n",
              "      <td>0.0</td>\n",
              "      <td>0.0</td>\n",
              "      <td>0.0</td>\n",
              "      <td>0.0</td>\n",
              "      <td>...</td>\n",
              "      <td>0.0</td>\n",
              "      <td>0.0</td>\n",
              "      <td>0.0</td>\n",
              "      <td>0.0</td>\n",
              "      <td>0.0</td>\n",
              "      <td>0.0</td>\n",
              "      <td>0.0</td>\n",
              "      <td>0.0</td>\n",
              "      <td>0.0</td>\n",
              "      <td>0.0</td>\n",
              "      <td>0.0</td>\n",
              "      <td>0.0</td>\n",
              "      <td>0.0</td>\n",
              "      <td>0.0</td>\n",
              "      <td>0.0</td>\n",
              "      <td>0.0</td>\n",
              "      <td>0.0</td>\n",
              "      <td>0.0</td>\n",
              "      <td>0.0</td>\n",
              "      <td>0.0</td>\n",
              "      <td>0.0</td>\n",
              "      <td>0.0</td>\n",
              "      <td>0.0</td>\n",
              "      <td>0.0</td>\n",
              "      <td>0.0</td>\n",
              "      <td>0.0</td>\n",
              "      <td>0.0</td>\n",
              "      <td>0.0</td>\n",
              "      <td>0.0</td>\n",
              "      <td>0.0</td>\n",
              "      <td>0.0</td>\n",
              "      <td>0.0</td>\n",
              "      <td>0.0</td>\n",
              "      <td>0.0</td>\n",
              "      <td>0.0</td>\n",
              "      <td>0.0</td>\n",
              "      <td>0.0</td>\n",
              "      <td>0.0</td>\n",
              "      <td>0.0</td>\n",
              "      <td>0.0</td>\n",
              "    </tr>\n",
              "  </tbody>\n",
              "</table>\n",
              "<p>5 rows × 1000 columns</p>\n",
              "</div>"
            ],
            "text/plain": [
              "   0.0  1.0  1.0.1  0.0.1  1.0.2  ...  0.0.898  0.0.899  0.0.900  0.0.901  0.0.902\n",
              "0  0.0  1.0    1.0    0.0    1.0  ...      0.0      0.0      0.0      0.0      0.0\n",
              "1  0.0  1.0    1.0    0.0    1.0  ...      0.0      0.0      0.0      0.0      0.0\n",
              "2  0.0  1.0    1.0    0.0    1.0  ...      0.0      0.0      0.0      0.0      0.0\n",
              "3  0.0  1.0    1.0    0.0    1.0  ...      0.0      0.0      0.0      0.0      0.0\n",
              "4  0.0  1.0    1.0    0.0    1.0  ...      0.0      0.0      0.0      0.0      0.0\n",
              "\n",
              "[5 rows x 1000 columns]"
            ]
          },
          "metadata": {
            "tags": []
          },
          "execution_count": 4
        }
      ]
    },
    {
      "cell_type": "code",
      "metadata": {
        "colab": {
          "base_uri": "https://localhost:8080/"
        },
        "id": "r2kaATDkV7P8",
        "outputId": "fb859d95-3478-40bd-a514-1a962962b0d1"
      },
      "source": [
        "y_traindf.head()"
      ],
      "execution_count": null,
      "outputs": [
        {
          "output_type": "execute_result",
          "data": {
            "text/html": [
              "<div>\n",
              "<style scoped>\n",
              "    .dataframe tbody tr th:only-of-type {\n",
              "        vertical-align: middle;\n",
              "    }\n",
              "\n",
              "    .dataframe tbody tr th {\n",
              "        vertical-align: top;\n",
              "    }\n",
              "\n",
              "    .dataframe thead th {\n",
              "        text-align: right;\n",
              "    }\n",
              "</style>\n",
              "<table border=\"1\" class=\"dataframe\">\n",
              "  <thead>\n",
              "    <tr style=\"text-align: right;\">\n",
              "      <th></th>\n",
              "      <th>1.0</th>\n",
              "    </tr>\n",
              "  </thead>\n",
              "  <tbody>\n",
              "    <tr>\n",
              "      <th>0</th>\n",
              "      <td>0.0</td>\n",
              "    </tr>\n",
              "    <tr>\n",
              "      <th>1</th>\n",
              "      <td>0.0</td>\n",
              "    </tr>\n",
              "    <tr>\n",
              "      <th>2</th>\n",
              "      <td>1.0</td>\n",
              "    </tr>\n",
              "    <tr>\n",
              "      <th>3</th>\n",
              "      <td>0.0</td>\n",
              "    </tr>\n",
              "    <tr>\n",
              "      <th>4</th>\n",
              "      <td>0.0</td>\n",
              "    </tr>\n",
              "  </tbody>\n",
              "</table>\n",
              "</div>"
            ],
            "text/plain": [
              "   1.0\n",
              "0  0.0\n",
              "1  0.0\n",
              "2  1.0\n",
              "3  0.0\n",
              "4  0.0"
            ]
          },
          "metadata": {
            "tags": []
          },
          "execution_count": 6
        }
      ]
    },
    {
      "cell_type": "code",
      "metadata": {
        "id": "xdQ5suntZJEd"
      },
      "source": [
        "#Let's create numpy arrays for X and y\n",
        "X_train = X_traindf.values\n",
        "X_test = X_testdf.values\n",
        "y_train = y_traindf.values\n",
        "y_test = y_testdf.values"
      ],
      "execution_count": null,
      "outputs": []
    },
    {
      "cell_type": "markdown",
      "metadata": {
        "id": "EbRC90Hncfdc"
      },
      "source": [
        "# Logistic regression"
      ]
    },
    {
      "cell_type": "code",
      "metadata": {
        "colab": {
          "base_uri": "https://localhost:8080/"
        },
        "id": "F52ncQWrWSf_",
        "outputId": "39ea60ce-cd0f-4753-90e8-134c1a8179e8"
      },
      "source": [
        "# K-fold CV\n",
        "scores = []\n",
        "LR = LogisticRegression()\n",
        "cv = KFold(n_splits=4, random_state=42, shuffle=False)\n",
        "i = 1\n",
        "for train_index, test_index in cv.split(X_train):\n",
        "    X_train_fold, X_test_fold, y_train_fold, y_test_fold = X_train[train_index], X_train[test_index], y_train[train_index], y_train[test_index]\n",
        "    LR.fit(X_train_fold, y_train_fold)\n",
        "    scores.append(LR.score(X_test_fold, y_test_fold))\n",
        "    print('Processing Fold #', i)\n",
        "    print(\"  - Train partition shape: \", X_train_fold.shape)\n",
        "    print(\"  - Test partition shape: \", X_test_fold.shape)\n",
        "    print(\"  - Training score = \", LR.score(X_train_fold, y_train_fold))\n",
        "    print(\"  - Testing score = \", LR.score(X_test_fold, y_test_fold))\n",
        "\n",
        "    i += 1"
      ],
      "execution_count": null,
      "outputs": [
        {
          "output_type": "stream",
          "text": [
            "Processing Fold # 1\n",
            "  - Train partition shape:  (18749, 1000)\n",
            "  - Test partition shape:  (6250, 1000)\n",
            "  - Training score =  0.8839404768254306\n",
            "  - Testing score =  0.85552\n",
            "Processing Fold # 2\n",
            "  - Train partition shape:  (18749, 1000)\n",
            "  - Test partition shape:  (6250, 1000)\n",
            "  - Training score =  0.8826070723771935\n",
            "  - Testing score =  0.85504\n",
            "Processing Fold # 3\n",
            "  - Train partition shape:  (18749, 1000)\n",
            "  - Test partition shape:  (6250, 1000)\n",
            "  - Training score =  0.8846871833164436\n",
            "  - Testing score =  0.85232\n",
            "Processing Fold # 4\n",
            "  - Train partition shape:  (18750, 1000)\n",
            "  - Test partition shape:  (6249, 1000)\n",
            "  - Training score =  0.88336\n",
            "  - Testing score =  0.8617378780604896\n"
          ],
          "name": "stdout"
        }
      ]
    },
    {
      "cell_type": "code",
      "metadata": {
        "id": "eBhjqx4Pab7M"
      },
      "source": [
        "# Option #2 \n",
        "\n",
        "LR_score_all = cross_val_score(LR, X_train, y_train, cv=4)\n"
      ],
      "execution_count": null,
      "outputs": []
    },
    {
      "cell_type": "code",
      "metadata": {
        "colab": {
          "base_uri": "https://localhost:8080/",
          "height": 295
        },
        "id": "7FAqCRAoMWS8",
        "outputId": "85eced43-a582-46b6-865a-7a3d03e83e3b"
      },
      "source": [
        "# plot the change in the average accuracy according to k \n",
        "plt.figure(figsize=(3.5,4))\n",
        "plt.title(\"Logistic Regression\")\n",
        "plt.xlabel(\"k - Folds\")\n",
        "plt.ylabel(\"Average Accuracy\")\n",
        "plt.xticks =np.arange(1, 5, 1)\n",
        "plt.grid()\n",
        "plt.plot(np.arange(1, 5, 1),LR_score_all,'o-');\n",
        "\n"
      ],
      "execution_count": null,
      "outputs": [
        {
          "output_type": "display_data",
          "data": {
            "image/png": "[encoded data removed]",
            "text/plain": [
              "<Figure size 252x288 with 1 Axes>"
            ]
          },
          "metadata": {
            "tags": [],
            "needs_background": "light"
          }
        }
      ]
    },
    {
      "cell_type": "code",
      "metadata": {
        "colab": {
          "base_uri": "https://localhost:8080/"
        },
        "id": "ZrXG0puueb_r",
        "outputId": "3db44313-47c5-4631-d6ea-1b8e6410f6bf"
      },
      "source": [
        "print(np.mean(scores))"
      ],
      "execution_count": null,
      "outputs": [
        {
          "output_type": "stream",
          "text": [
            "0.8561544695151224\n"
          ],
          "name": "stdout"
        }
      ]
    },
    {
      "cell_type": "code",
      "metadata": {
        "colab": {
          "base_uri": "https://localhost:8080/"
        },
        "id": "LaKOIObReg1e",
        "outputId": "9846db9e-45fd-4b66-923f-1c5c9823109a"
      },
      "source": [
        "LR.score(X_test,y_test)"
      ],
      "execution_count": null,
      "outputs": [
        {
          "output_type": "execute_result",
          "data": {
            "text/plain": [
              "0.8536741469658786"
            ]
          },
          "metadata": {
            "tags": []
          },
          "execution_count": 31
        }
      ]
    },
    {
      "cell_type": "code",
      "metadata": {
        "colab": {
          "base_uri": "https://localhost:8080/"
        },
        "id": "aKov97C6fFlv",
        "outputId": "a3e48cca-363d-4cc7-b3ff-fdede77beb7f"
      },
      "source": [
        "# Get param names\n",
        "LR.coef_"
      ],
      "execution_count": null,
      "outputs": [
        {
          "output_type": "execute_result",
          "data": {
            "text/plain": [
              "{'C': 1.0,\n",
              " 'class_weight': None,\n",
              " 'dual': False,\n",
              " 'fit_intercept': True,\n",
              " 'intercept_scaling': 1,\n",
              " 'l1_ratio': None,\n",
              " 'max_iter': 100,\n",
              " 'multi_class': 'auto',\n",
              " 'n_jobs': None,\n",
              " 'penalty': 'l2',\n",
              " 'random_state': None,\n",
              " 'solver': 'lbfgs',\n",
              " 'tol': 0.0001,\n",
              " 'verbose': 0,\n",
              " 'warm_start': False}"
            ]
          },
          "metadata": {
            "tags": []
          },
          "execution_count": 19
        }
      ]
    },
    {
      "cell_type": "code",
      "metadata": {
        "colab": {
          "base_uri": "https://localhost:8080/"
        },
        "id": "bdUDXI-K5TCV",
        "outputId": "f0e41237-c227-40aa-a758-ec546cccbfc2"
      },
      "source": [
        "c_vals = np.logspace(0,4,10)\n",
        "params = dict(C=c_vals)\n",
        "\n",
        "lrgrid = GridSearchCV(LR, param_grid=params, n_jobs=-1, cv=4,refit=True, verbose=5)\n",
        "lrgrid.fit(X_train,y_train)\n",
        "\n",
        "print('Train Accuracy : %.3f'%lrgrid.best_estimator_.score(X_train, y_train))\n",
        "print('Test Accuracy : %.3f'%lrgrid.best_estimator_.score(X_test, y_test))\n",
        "print('Best Accuracy Through Grid Search : %.3f'%lrgrid.best_score_)\n",
        "print('Best Parameters : ',lrgrid.best_params_)"
      ],
      "execution_count": null,
      "outputs": [
        {
          "output_type": "stream",
          "text": [
            "Fitting 4 folds for each of 10 candidates, totalling 40 fits\n"
          ],
          "name": "stdout"
        },
        {
          "output_type": "stream",
          "text": [
            "[Parallel(n_jobs=-1)]: Using backend LokyBackend with 2 concurrent workers.\n",
            "[Parallel(n_jobs=-1)]: Done  14 tasks      | elapsed:   43.6s\n",
            "[Parallel(n_jobs=-1)]: Done  40 out of  40 | elapsed:  2.0min finished\n"
          ],
          "name": "stderr"
        },
        {
          "output_type": "stream",
          "text": [
            "Train Accuracy : 0.882\n",
            "Test Accuracy : 0.859\n",
            "Best Accuracy Through Grid Search : 0.855\n",
            "Best Parameters :  {'C': 7.742636826811269}\n"
          ],
          "name": "stdout"
        }
      ]
    },
    {
      "cell_type": "code",
      "metadata": {
        "id": "49IFE5vrIySE"
      },
      "source": [
        " \n",
        " \n",
        "feature_importances_ls = pd.DataFrame(lrgrid.best_estimator_.coef_[0],\n",
        "                                   index = X_traindf.columns,\n",
        "                                    columns=['importance']).sort_values('importance',ascending=False)"
      ],
      "execution_count": null,
      "outputs": []
    },
    {
      "cell_type": "code",
      "metadata": {
        "colab": {
          "base_uri": "https://localhost:8080/",
          "height": 404
        },
        "id": "dwbHfv4lJuNU",
        "outputId": "293068d6-30b9-4e98-d320-f2f5e7cbcbda"
      },
      "source": [
        "feature_importances_ls\n"
      ],
      "execution_count": null,
      "outputs": [
        {
          "output_type": "execute_result",
          "data": {
            "text/html": [
              "<div>\n",
              "<style scoped>\n",
              "    .dataframe tbody tr th:only-of-type {\n",
              "        vertical-align: middle;\n",
              "    }\n",
              "\n",
              "    .dataframe tbody tr th {\n",
              "        vertical-align: top;\n",
              "    }\n",
              "\n",
              "    .dataframe thead th {\n",
              "        text-align: right;\n",
              "    }\n",
              "</style>\n",
              "<table border=\"1\" class=\"dataframe\">\n",
              "  <thead>\n",
              "    <tr style=\"text-align: right;\">\n",
              "      <th></th>\n",
              "      <th>importance</th>\n",
              "    </tr>\n",
              "  </thead>\n",
              "  <tbody>\n",
              "    <tr>\n",
              "      <th>0.0.599</th>\n",
              "      <td>1.558034</td>\n",
              "    </tr>\n",
              "    <tr>\n",
              "      <th>0.0.244</th>\n",
              "      <td>1.270120</td>\n",
              "    </tr>\n",
              "    <tr>\n",
              "      <th>0.0.801</th>\n",
              "      <td>1.203089</td>\n",
              "    </tr>\n",
              "    <tr>\n",
              "      <th>0.0.615</th>\n",
              "      <td>1.202644</td>\n",
              "    </tr>\n",
              "    <tr>\n",
              "      <th>0.0.322</th>\n",
              "      <td>1.178177</td>\n",
              "    </tr>\n",
              "    <tr>\n",
              "      <th>...</th>\n",
              "      <td>...</td>\n",
              "    </tr>\n",
              "    <tr>\n",
              "      <th>0.0.658</th>\n",
              "      <td>-1.508252</td>\n",
              "    </tr>\n",
              "    <tr>\n",
              "      <th>0.0.295</th>\n",
              "      <td>-1.534538</td>\n",
              "    </tr>\n",
              "    <tr>\n",
              "      <th>0.0.766</th>\n",
              "      <td>-1.916361</td>\n",
              "    </tr>\n",
              "    <tr>\n",
              "      <th>0.0.178</th>\n",
              "      <td>-1.929045</td>\n",
              "    </tr>\n",
              "    <tr>\n",
              "      <th>0.0.354</th>\n",
              "      <td>-1.937977</td>\n",
              "    </tr>\n",
              "  </tbody>\n",
              "</table>\n",
              "<p>1000 rows × 1 columns</p>\n",
              "</div>"
            ],
            "text/plain": [
              "         importance\n",
              "0.0.599    1.558034\n",
              "0.0.244    1.270120\n",
              "0.0.801    1.203089\n",
              "0.0.615    1.202644\n",
              "0.0.322    1.178177\n",
              "...             ...\n",
              "0.0.658   -1.508252\n",
              "0.0.295   -1.534538\n",
              "0.0.766   -1.916361\n",
              "0.0.178   -1.929045\n",
              "0.0.354   -1.937977\n",
              "\n",
              "[1000 rows x 1 columns]"
            ]
          },
          "metadata": {
            "tags": []
          },
          "execution_count": 43
        }
      ]
    },
    {
      "cell_type": "code",
      "metadata": {
        "colab": {
          "base_uri": "https://localhost:8080/",
          "height": 312
        },
        "id": "e_5CByKJKAzS",
        "outputId": "4fa1db39-01af-4df2-ceb2-b32f05d69290"
      },
      "source": [
        "ls_feature_imp = pd.Series(lrgrid.best_estimator_.coef_[0],X_traindf.columns).sort_values(ascending=False)\n",
        "ls_feature_imp\n",
        "sns.barplot(x=ls_feature_imp[0:8], y=ls_feature_imp.index[0:8])\n",
        "# Add labels to your graph\n",
        "plt.xlabel('Logestic regression model Feature Importance Score')\n",
        "plt.ylabel('Features')\n",
        "plt.title(\"Visualizing Important Features\")\n",
        "plt.legend()\n",
        "plt.show()"
      ],
      "execution_count": null,
      "outputs": [
        {
          "output_type": "stream",
          "text": [
            "No handles with labels found to put in legend.\n"
          ],
          "name": "stderr"
        },
        {
          "output_type": "display_data",
          "data": {
            "image/png": "[encoded data removed]",
            "text/plain": [
              "<Figure size 432x288 with 1 Axes>"
            ]
          },
          "metadata": {
            "tags": [],
            "needs_background": "light"
          }
        }
      ]
    },
    {
      "cell_type": "code",
      "metadata": {
        "colab": {
          "base_uri": "https://localhost:8080/"
        },
        "id": "jIr0CgYAua1F",
        "outputId": "2009c631-6f58-425e-fc1e-42b1e5eebfb5"
      },
      "source": [
        "lrgrid.cv_results_"
      ],
      "execution_count": null,
      "outputs": [
        {
          "output_type": "execute_result",
          "data": {
            "text/plain": [
              "{'mean_fit_time': array([6.14, 5.71, 5.65, 5.72, 5.66, 5.58, 5.67, 5.54, 5.57, 5.44]),\n",
              " 'mean_score_time': array([0.02, 0.02, 0.02, 0.02, 0.02, 0.02, 0.02, 0.02, 0.02, 0.02]),\n",
              " 'mean_test_score': array([0.86, 0.86, 0.86, 0.86, 0.86, 0.86, 0.85, 0.86, 0.85, 0.85]),\n",
              " 'param_C': masked_array(data=[1.0, 2.7825594022071245, 7.742636826811269,\n",
              "                    21.544346900318832, 59.94842503189409,\n",
              "                    166.81005372000593, 464.15888336127773,\n",
              "                    1291.5496650148827, 3593.813663804626, 10000.0],\n",
              "              mask=[False, False, False, False, False, False, False, False,\n",
              "                    False, False],\n",
              "        fill_value='?',\n",
              "             dtype=object),\n",
              " 'params': [{'C': 1.0},\n",
              "  {'C': 2.7825594022071245},\n",
              "  {'C': 7.742636826811269},\n",
              "  {'C': 21.544346900318832},\n",
              "  {'C': 59.94842503189409},\n",
              "  {'C': 166.81005372000593},\n",
              "  {'C': 464.15888336127773},\n",
              "  {'C': 1291.5496650148827},\n",
              "  {'C': 3593.813663804626},\n",
              "  {'C': 10000.0}],\n",
              " 'rank_test_score': array([ 2,  4,  1,  6,  5,  3, 10,  7,  8,  9], dtype=int32),\n",
              " 'split0_test_score': array([0.85, 0.85, 0.85, 0.85, 0.85, 0.85, 0.85, 0.85, 0.85, 0.85]),\n",
              " 'split1_test_score': array([0.86, 0.86, 0.86, 0.86, 0.86, 0.86, 0.86, 0.86, 0.86, 0.86]),\n",
              " 'split2_test_score': array([0.85, 0.85, 0.85, 0.85, 0.85, 0.85, 0.85, 0.85, 0.85, 0.85]),\n",
              " 'split3_test_score': array([0.86, 0.86, 0.86, 0.86, 0.86, 0.86, 0.86, 0.86, 0.86, 0.86]),\n",
              " 'std_fit_time': array([0.11, 0.2 , 0.11, 0.06, 0.1 , 0.13, 0.06, 0.04, 0.1 , 0.14]),\n",
              " 'std_score_time': array([0., 0., 0., 0., 0., 0., 0., 0., 0., 0.]),\n",
              " 'std_test_score': array([0., 0., 0., 0., 0., 0., 0., 0., 0., 0.])}"
            ]
          },
          "metadata": {
            "tags": []
          },
          "execution_count": 49
        }
      ]
    },
    {
      "cell_type": "code",
      "metadata": {
        "colab": {
          "base_uri": "https://localhost:8080/"
        },
        "id": "Uj9Vcx7sEoIK",
        "outputId": "a39c2927-856d-4c26-dc89-aa91e806821d"
      },
      "source": [
        "lrgrid.score(X_test,y_test)"
      ],
      "execution_count": null,
      "outputs": [
        {
          "output_type": "execute_result",
          "data": {
            "text/plain": [
              "0.858874354974199"
            ]
          },
          "metadata": {
            "tags": []
          },
          "execution_count": 95
        }
      ]
    },
    {
      "cell_type": "code",
      "metadata": {
        "id": "5rS4aZadzcp2"
      },
      "source": [
        "\n",
        "train_scores, test_scores = validation_curve(LR, X_train, y_train, param_name=\"C\", param_range=c_vals,\n",
        "    scoring=\"accuracy\", n_jobs=1,cv = 4)\n",
        "\n",
        "train_scores_mean = np.mean(train_scores, axis=1)\n",
        "train_scores_std = np.std(train_scores, axis=1)\n",
        "test_scores_mean = np.mean(test_scores, axis=1)\n",
        "test_scores_std = np.std(test_scores, axis=1)\n"
      ],
      "execution_count": null,
      "outputs": []
    },
    {
      "cell_type": "code",
      "metadata": {
        "colab": {
          "base_uri": "https://localhost:8080/",
          "height": 299
        },
        "id": "Ev7xxIsA1hb-",
        "outputId": "850459d6-d2d9-49de-f737-cb567332a2fd"
      },
      "source": [
        "\n",
        "plt.title(\"Validation Curve with Logestic regression model\")\n",
        "plt.xlabel(r\"C- parameter\")\n",
        "plt.ylabel(\"Score\")\n",
        "#plt.ylim(0.0, 1.1)\n",
        "lw = 2\n",
        "plt.semilogx(c_vals, train_scores_mean, label=\"MeanTraining score\",\n",
        "             color=\"darkorange\", lw=lw ,ls='--')\n",
        "plt.fill_between(c_vals, train_scores_mean - train_scores_std,\n",
        "                 train_scores_mean + train_scores_std, alpha=0.2,\n",
        "                 color=\"darkorange\", lw=lw)\n",
        "plt.semilogx(c_vals, test_scores_mean, label=\"Cross-validation score\",\n",
        "             color=\"navy\", lw=lw,ls='--')\n",
        "plt.fill_between(c_vals, test_scores_mean - test_scores_std,\n",
        "                 test_scores_mean + test_scores_std, alpha=0.2,\n",
        "                 color=\"navy\", lw=lw)\n",
        "plt.legend(loc=\"best\")\n",
        "plt.grid()\n",
        "plt.show()"
      ],
      "execution_count": null,
      "outputs": [
        {
          "output_type": "display_data",
          "data": {
            "image/png": "[encoded data removed]",
            "text/plain": [
              "<Figure size 432x288 with 1 Axes>"
            ]
          },
          "metadata": {
            "tags": [],
            "needs_background": "light"
          }
        }
      ]
    },
    {
      "cell_type": "code",
      "metadata": {
        "colab": {
          "base_uri": "https://localhost:8080/",
          "height": 295
        },
        "id": "zaERuTmE4dWN",
        "outputId": "128edbcb-1469-4075-ba1a-0acdddd3d130"
      },
      "source": [
        "\n",
        "import matplotlib.pyplot as plt     \n",
        "cnf_matrix = confusion_matrix(y_test,lrgrid.predict(X_test))\n",
        "ax= plt.subplot()\n",
        "sns.heatmap(cnf_matrix, annot=True, ax = ax,fmt='d'); #annot=True to annotate cells\n",
        "\n",
        "# labels, title and ticks\n",
        "ax.set_xlabel('Predicted labels');ax.set_ylabel('True labels'); \n",
        "ax.set_title(' Logistic regression model Confusion Matrix with optimum  C=7.7'); \n",
        "ax.xaxis.set_ticklabels(['negative', 'positive']); ax.yaxis.set_ticklabels(['negative', 'positive']);"
      ],
      "execution_count": null,
      "outputs": [
        {
          "output_type": "display_data",
          "data": {
            "image/png": "[encoded data removed]",
            "text/plain": [
              "<Figure size 432x288 with 2 Axes>"
            ]
          },
          "metadata": {
            "tags": [],
            "needs_background": "light"
          }
        }
      ]
    },
    {
      "cell_type": "markdown",
      "metadata": {
        "id": "EAxpFfMLno1M"
      },
      "source": [
        "# Bernoulli Naive Bayes"
      ]
    },
    {
      "cell_type": "code",
      "metadata": {
        "colab": {
          "base_uri": "https://localhost:8080/"
        },
        "id": "06hsGrwOi0Rz",
        "outputId": "390c3895-6b1c-4975-ebe2-4302401dc301"
      },
      "source": [
        "# K-fold CV for Naive Bayes\n",
        "scores = []\n",
        "NB = BernoulliNB()\n",
        "cv = KFold(n_splits=4, random_state=42, shuffle=False)\n",
        "i = 1\n",
        "for train_index, test_index in cv.split(X_train):\n",
        "    X_train_fold, X_test_fold, y_train_fold, y_test_fold = X_train[train_index], X_train[test_index], y_train[train_index], y_train[test_index]\n",
        "    NB.fit(X_train_fold, y_train_fold)\n",
        "    scores.append(NB.score(X_test_fold, y_test_fold))\n",
        "    print('Processing Fold #', i)\n",
        "    print(\"  - Train partition shape: \", X_train_fold.shape)\n",
        "    print(\"  - Test partition shape: \", X_test_fold.shape)\n",
        "    print(\"  - Training score = \", NB.score(X_train_fold, y_train_fold))\n",
        "    print(\"  - Testing score = \", NB.score(X_test_fold, y_test_fold))\n",
        "    \n",
        "    i += 1"
      ],
      "execution_count": null,
      "outputs": [
        {
          "output_type": "stream",
          "text": [
            "Processing Fold # 1\n",
            "  - Train partition shape:  (18749, 1000)\n",
            "  - Test partition shape:  (6250, 1000)\n",
            "  - Training score =  0.8171102458797802\n",
            "  - Testing score =  0.80464\n",
            "Processing Fold # 2\n",
            "  - Train partition shape:  (18749, 1000)\n",
            "  - Test partition shape:  (6250, 1000)\n",
            "  - Training score =  0.8212704677582804\n",
            "  - Testing score =  0.81952\n",
            "Processing Fold # 3\n",
            "  - Train partition shape:  (18749, 1000)\n",
            "  - Test partition shape:  (6250, 1000)\n",
            "  - Training score =  0.8138567390260814\n",
            "  - Testing score =  0.8024\n",
            "Processing Fold # 4\n",
            "  - Train partition shape:  (18750, 1000)\n",
            "  - Test partition shape:  (6249, 1000)\n",
            "  - Training score =  0.8232533333333333\n",
            "  - Testing score =  0.8278124499919988\n"
          ],
          "name": "stdout"
        }
      ]
    },
    {
      "cell_type": "code",
      "metadata": {
        "id": "f8G0Sn7ReqZd"
      },
      "source": [
        "NB_score_all = cross_val_score(NB, X_train, y_train, cv=4)"
      ],
      "execution_count": null,
      "outputs": []
    },
    {
      "cell_type": "code",
      "metadata": {
        "colab": {
          "base_uri": "https://localhost:8080/"
        },
        "id": "gkRMc9OKeyQe",
        "outputId": "f5aff717-b769-417c-824b-b2bb996211ea"
      },
      "source": [
        "# plot the change in the average accuracy according to k \n",
        "plt.figure(figsize=(3.5,4))\n",
        "plt.title(\"Naive Bayes\")\n",
        "plt.xlabel(\"k folds\")\n",
        "plt.ylabel(\"Average Accuracy\")\n",
        "plt.xticks =np.arange(1, 5, 1)\n",
        "plt.grid()\n",
        "plt.plot(np.arange(1, 5, 1),NB_score_all,'o-');"
      ],
      "execution_count": null,
      "outputs": [
        {
          "output_type": "display_data",
          "data": {
            "image/png": "[encoded data removed]",
            "text/plain": [
              "<Figure size 252x288 with 1 Axes>"
            ]
          },
          "metadata": {
            "tags": [],
            "needs_background": "light"
          }
        }
      ]
    },
    {
      "cell_type": "code",
      "metadata": {
        "colab": {
          "base_uri": "https://localhost:8080/"
        },
        "id": "OtxzNSDFX4Ga",
        "outputId": "b4359d3f-fe5c-426d-8912-ea8e38b03bea"
      },
      "source": [
        "params = {'alpha': [0.0001,0.001,0.01, 0.1, 0.5, 1.0, 10.0],\n",
        "         }\n",
        "\n",
        "bernoulli_nb_grid = GridSearchCV(BernoulliNB(), param_grid=params, n_jobs=-1, cv=4, verbose=5)\n",
        "bernoulli_nb_grid.fit(X_train,y_train)\n",
        "\n",
        "print('Train Accuracy : %.3f'%bernoulli_nb_grid.best_estimator_.score(X_train, y_train))\n",
        "print('Test Accuracy : %.3f'%bernoulli_nb_grid.best_estimator_.score(X_test, y_test))\n",
        "print('Best Accuracy Through Grid Search : %.3f'%bernoulli_nb_grid.best_score_)\n",
        "print('Best Parameters : ',bernoulli_nb_grid.best_params_)"
      ],
      "execution_count": null,
      "outputs": [
        {
          "output_type": "stream",
          "text": [
            "Fitting 4 folds for each of 7 candidates, totalling 28 fits\n"
          ],
          "name": "stdout"
        },
        {
          "output_type": "stream",
          "text": [
            "[Parallel(n_jobs=-1)]: Using backend LokyBackend with 2 concurrent workers.\n",
            "[Parallel(n_jobs=-1)]: Done  14 tasks      | elapsed:    5.5s\n",
            "[Parallel(n_jobs=-1)]: Done  28 out of  28 | elapsed:    9.7s finished\n"
          ],
          "name": "stderr"
        },
        {
          "output_type": "stream",
          "text": [
            "Train Accuracy : 0.818\n",
            "Test Accuracy : 0.815\n",
            "Best Accuracy Through Grid Search : 0.813\n",
            "Best Parameters :  {'alpha': 0.01}\n"
          ],
          "name": "stdout"
        }
      ]
    },
    {
      "cell_type": "code",
      "metadata": {
        "colab": {
          "base_uri": "https://localhost:8080/"
        },
        "id": "pn_zUrWeb-9R",
        "outputId": "ba074db7-3050-483d-99bb-2e0e02bd9afb"
      },
      "source": [
        "alphas = np.array([0.0001,0.001,0.01, 0.1, 0.5, 1.0, 10.0])\n",
        "train_scores, test_scores = validation_curve(NB, X_train, y_train, param_name=\"alpha\", param_range=c_vals,\n",
        "    scoring=\"accuracy\", n_jobs=1,cv = 4)\n",
        "\n",
        "train_scores_mean = np.mean(train_scores, axis=1)\n",
        "train_scores_std = np.std(train_scores, axis=1)\n",
        "test_scores_mean = np.mean(test_scores, axis=1)\n",
        "test_scores_std = np.std(test_scores, axis=1)\n",
        "\n",
        "plt.title(\"Validation Curve for Birnoulli naive bayes model\")\n",
        "plt.xlabel(r\"$\\alpha$\")\n",
        "plt.ylabel(\"Score\")\n",
        "#plt.ylim(0.0, 1.1)\n",
        "lw = 2\n",
        "plt.semilogx(c_vals, train_scores_mean, label=\"MeanTraining score\",\n",
        "             color=\"darkorange\", lw=lw ,ls='--')\n",
        "plt.fill_between(c_vals, train_scores_mean - train_scores_std,\n",
        "                 train_scores_mean + train_scores_std, alpha=0.2,\n",
        "                 color=\"darkorange\", lw=lw)\n",
        "plt.semilogx(c_vals, test_scores_mean, label=\"Cross-validation score\",\n",
        "             color=\"navy\", lw=lw,ls='--')\n",
        "plt.fill_between(c_vals, test_scores_mean - test_scores_std,\n",
        "                 test_scores_mean + test_scores_std, alpha=0.2,\n",
        "                 color=\"navy\", lw=lw)\n",
        "plt.legend(loc=\"best\")\n",
        "plt.grid()\n",
        "plt.show()\n"
      ],
      "execution_count": null,
      "outputs": [
        {
          "output_type": "display_data",
          "data": {
            "image/png": "[encoded data removed]",
            "text/plain": [
              "<Figure size 432x288 with 1 Axes>"
            ]
          },
          "metadata": {
            "tags": [],
            "needs_background": "light"
          }
        }
      ]
    },
    {
      "cell_type": "code",
      "metadata": {
        "colab": {
          "base_uri": "https://localhost:8080/",
          "height": 129
        },
        "id": "juQolSecc0UG",
        "outputId": "935c6ac0-da62-4deb-b693-d66db9874704"
      },
      "source": [
        "cnf_matrix = confusion_matrix(y_test,bernoulli_nb_grid.predict(X_test))\n",
        "ax= plt.subplot()\n",
        "sns.heatmap(cnf_matrix, annot=True, ax = ax,fmt='d'); #annot=True to annotate cells\n",
        "\n",
        "# labels, title and ticks\n",
        "ax.set_xlabel('Predicted labels');ax.set_ylabel('True labels'); \n",
        "ax.set_title( ' Naive Bayes model Confusion Matrix with optimum \\u03B1 = 0.01 ' ); \n",
        "ax.xaxis.set_ticklabels(['negative', 'positive']); ax.yaxis.set_ticklabels(['negative', 'positive']);"
      ],
      "execution_count": null,
      "outputs": [
        {
          "output_type": "error",
          "ename": "SyntaxError",
          "evalue": "ignored",
          "traceback": [
            "\u001b[0;36m  File \u001b[0;32m\"<ipython-input-1-7fa0e5c03f15>\"\u001b[0;36m, line \u001b[0;32m8\u001b[0m\n\u001b[0;31m    ax.xaxis.set_ticklabels(['T-shirt/Top','Trouser','Pullover','Dress','Coat'])); ax.yaxis.set_ticklabels(['T-shirt/Top','Trouser','Pullover','Dress','Coat']);\u001b[0m\n\u001b[0m                                                                                ^\u001b[0m\n\u001b[0;31mSyntaxError\u001b[0m\u001b[0;31m:\u001b[0m invalid syntax\n"
          ]
        }
      ]
    },
    {
      "cell_type": "markdown",
      "metadata": {
        "id": "ArBvQWbtn14J"
      },
      "source": [
        "# Random Forest Classifier"
      ]
    },
    {
      "cell_type": "code",
      "metadata": {
        "colab": {
          "base_uri": "https://localhost:8080/"
        },
        "id": "2W8O_ob-i5i2",
        "outputId": "cc6fe54e-450a-47d6-d5e9-a210d6ab05de"
      },
      "source": [
        "# K-fold CV\n",
        "scores = []\n",
        "forest = RandomForestClassifier (n_estimators=50, random_state=2)\n",
        "cv = KFold(n_splits=4, random_state=42, shuffle=False)\n",
        "i = 1\n",
        "for train_index, test_index in cv.split(X_train):\n",
        "    X_train_fold, X_test_fold, y_train_fold, y_test_fold = X_train[train_index], X_train[test_index], y_train[train_index], y_train[test_index]\n",
        "    forest.fit(X_train_fold, y_train_fold)\n",
        "    scores.append(forest.score(X_test_fold, y_test_fold))\n",
        "    print('Processing Fold #', i)\n",
        "    print(\"  - Train partition shape: \", X_train_fold.shape)\n",
        "    print(\"  - Test partition shape: \", X_test_fold.shape)\n",
        "    print(\"  - Training score = \", forest.score(X_train_fold, y_train_fold))\n",
        "    print(\"  - Testing score = \", forest.score(X_test_fold, y_test_fold))\n",
        "    \n",
        "    i += 1"
      ],
      "execution_count": null,
      "outputs": [
        {
          "output_type": "stream",
          "text": [
            "Processing Fold # 1\n",
            "  - Train partition shape:  (18749, 1000)\n",
            "  - Test partition shape:  (6250, 1000)\n",
            "  - Training score =  1.0\n",
            "  - Testing score =  0.81424\n",
            "Processing Fold # 2\n",
            "  - Train partition shape:  (18749, 1000)\n",
            "  - Test partition shape:  (6250, 1000)\n",
            "  - Training score =  0.9999466638220705\n",
            "  - Testing score =  0.81584\n",
            "Processing Fold # 3\n",
            "  - Train partition shape:  (18749, 1000)\n",
            "  - Test partition shape:  (6250, 1000)\n",
            "  - Training score =  0.9999466638220705\n",
            "  - Testing score =  0.80944\n",
            "Processing Fold # 4\n",
            "  - Train partition shape:  (18750, 1000)\n",
            "  - Test partition shape:  (6249, 1000)\n",
            "  - Training score =  0.9999466666666667\n",
            "  - Testing score =  0.8137301968314931\n"
          ],
          "name": "stdout"
        }
      ]
    },
    {
      "cell_type": "code",
      "metadata": {
        "colab": {
          "base_uri": "https://localhost:8080/"
        },
        "id": "qfU2TISW5ghW",
        "outputId": "209a2df1-6430-447d-f149-233e9ac656cb"
      },
      "source": [
        "forest.score(X_test,y_test)"
      ],
      "execution_count": null,
      "outputs": [
        {
          "output_type": "execute_result",
          "data": {
            "text/plain": [
              "0.8138325533021321"
            ]
          },
          "metadata": {
            "tags": []
          },
          "execution_count": 90
        }
      ]
    },
    {
      "cell_type": "code",
      "metadata": {
        "colab": {
          "base_uri": "https://localhost:8080/"
        },
        "id": "cntA4Vzx6YJF",
        "outputId": "2cb7db5c-6eff-46a1-b00c-a1514b1b7f73"
      },
      "source": [
        "# Get param names\n",
        "forest.get_params()"
      ],
      "execution_count": null,
      "outputs": [
        {
          "output_type": "execute_result",
          "data": {
            "text/plain": [
              "{'bootstrap': True,\n",
              " 'ccp_alpha': 0.0,\n",
              " 'class_weight': None,\n",
              " 'criterion': 'gini',\n",
              " 'max_depth': None,\n",
              " 'max_features': 'auto',\n",
              " 'max_leaf_nodes': None,\n",
              " 'max_samples': None,\n",
              " 'min_impurity_decrease': 0.0,\n",
              " 'min_impurity_split': None,\n",
              " 'min_samples_leaf': 1,\n",
              " 'min_samples_split': 2,\n",
              " 'min_weight_fraction_leaf': 0.0,\n",
              " 'n_estimators': 50,\n",
              " 'n_jobs': None,\n",
              " 'oob_score': False,\n",
              " 'random_state': 2,\n",
              " 'verbose': 0,\n",
              " 'warm_start': False}"
            ]
          },
          "metadata": {
            "tags": []
          },
          "execution_count": 91
        }
      ]
    },
    {
      "cell_type": "code",
      "metadata": {
        "id": "kHLvGJHM_iaP"
      },
      "source": [
        "forest_score_all = cross_val_score(forest, X_train, y_train, cv=4)"
      ],
      "execution_count": null,
      "outputs": []
    },
    {
      "cell_type": "code",
      "metadata": {
        "colab": {
          "base_uri": "https://localhost:8080/",
          "height": 295
        },
        "id": "ZOEYlX2p_t1g",
        "outputId": "e79f25d8-29b9-449d-9936-e053de9fd477"
      },
      "source": [
        "# plot the change in the average accuracy according to k \n",
        "plt.figure(figsize=(3.5,4))\n",
        "plt.title(\"Random Forest model\")\n",
        "plt.xlabel(\"Number of Folds (k)\")\n",
        "plt.ylabel(\"Average Accuracy\")\n",
        "plt.xticks =np.arange(1, 5, 1)\n",
        "plt.grid()\n",
        "plt.plot(np.arange(1, 5, 1),forest_score_all,'o-');"
      ],
      "execution_count": null,
      "outputs": [
        {
          "output_type": "display_data",
          "data": {
            "image/png": "[encoded data removed]",
            "text/plain": [
              "<Figure size 252x288 with 1 Axes>"
            ]
          },
          "metadata": {
            "tags": [],
            "needs_background": "light"
          }
        }
      ]
    },
    {
      "cell_type": "code",
      "metadata": {
        "colab": {
          "base_uri": "https://localhost:8080/"
        },
        "id": "zpvF8LcG-czL",
        "outputId": "9eeb93cb-0e5c-47b8-bf2e-53e64181be9c"
      },
      "source": [
        "from sklearn.ensemble import RandomForestClassifier\n",
        "# Build a classification task using 3 informative features\n",
        "rfc = RandomForestClassifier() \n",
        "param_grid = { \n",
        "    'n_estimators': [10,50,100,150,200]\n",
        "}\n",
        "CV_rfc = GridSearchCV(rfc, param_grid=param_grid, cv=4, verbose=5)\n",
        "CV_rfc.fit(X_train, y_train)\n",
        "print (CV_rfc.best_params_)"
      ],
      "execution_count": null,
      "outputs": [
        {
          "output_type": "stream",
          "text": [
            "Fitting 4 folds for each of 5 candidates, totalling 20 fits\n",
            "[CV] n_estimators=10 .................................................\n"
          ],
          "name": "stdout"
        },
        {
          "output_type": "stream",
          "text": [
            "[Parallel(n_jobs=1)]: Using backend SequentialBackend with 1 concurrent workers.\n"
          ],
          "name": "stderr"
        },
        {
          "output_type": "stream",
          "text": [
            "[CV] ..................... n_estimators=10, score=0.758, total=   1.5s\n",
            "[CV] n_estimators=10 .................................................\n"
          ],
          "name": "stdout"
        },
        {
          "output_type": "stream",
          "text": [
            "[Parallel(n_jobs=1)]: Done   1 out of   1 | elapsed:    1.5s remaining:    0.0s\n"
          ],
          "name": "stderr"
        },
        {
          "output_type": "stream",
          "text": [
            "[CV] ..................... n_estimators=10, score=0.749, total=   1.7s\n",
            "[CV] n_estimators=10 .................................................\n"
          ],
          "name": "stdout"
        },
        {
          "output_type": "stream",
          "text": [
            "[Parallel(n_jobs=1)]: Done   2 out of   2 | elapsed:    3.2s remaining:    0.0s\n"
          ],
          "name": "stderr"
        },
        {
          "output_type": "stream",
          "text": [
            "[CV] ..................... n_estimators=10, score=0.758, total=   1.7s\n",
            "[CV] n_estimators=10 .................................................\n"
          ],
          "name": "stdout"
        },
        {
          "output_type": "stream",
          "text": [
            "[Parallel(n_jobs=1)]: Done   3 out of   3 | elapsed:    4.9s remaining:    0.0s\n"
          ],
          "name": "stderr"
        },
        {
          "output_type": "stream",
          "text": [
            "[CV] ..................... n_estimators=10, score=0.762, total=   1.6s\n",
            "[CV] n_estimators=50 .................................................\n"
          ],
          "name": "stdout"
        },
        {
          "output_type": "stream",
          "text": [
            "[Parallel(n_jobs=1)]: Done   4 out of   4 | elapsed:    6.5s remaining:    0.0s\n"
          ],
          "name": "stderr"
        },
        {
          "output_type": "stream",
          "text": [
            "[CV] ..................... n_estimators=50, score=0.811, total=   6.6s\n",
            "[CV] n_estimators=50 .................................................\n",
            "[CV] ..................... n_estimators=50, score=0.815, total=   6.5s\n",
            "[CV] n_estimators=50 .................................................\n",
            "[CV] ..................... n_estimators=50, score=0.807, total=   6.3s\n",
            "[CV] n_estimators=50 .................................................\n",
            "[CV] ..................... n_estimators=50, score=0.811, total=   6.3s\n",
            "[CV] n_estimators=100 ................................................\n",
            "[CV] .................... n_estimators=100, score=0.822, total=  12.8s\n",
            "[CV] n_estimators=100 ................................................\n",
            "[CV] .................... n_estimators=100, score=0.828, total=  13.4s\n",
            "[CV] n_estimators=100 ................................................\n",
            "[CV] .................... n_estimators=100, score=0.817, total=  13.1s\n",
            "[CV] n_estimators=100 ................................................\n",
            "[CV] .................... n_estimators=100, score=0.824, total=  12.5s\n",
            "[CV] n_estimators=150 ................................................\n",
            "[CV] .................... n_estimators=150, score=0.826, total=  18.9s\n",
            "[CV] n_estimators=150 ................................................\n",
            "[CV] .................... n_estimators=150, score=0.836, total=  19.3s\n",
            "[CV] n_estimators=150 ................................................\n",
            "[CV] .................... n_estimators=150, score=0.824, total=  18.7s\n",
            "[CV] n_estimators=150 ................................................\n",
            "[CV] .................... n_estimators=150, score=0.831, total=  18.8s\n",
            "[CV] n_estimators=200 ................................................\n",
            "[CV] .................... n_estimators=200, score=0.831, total=  25.1s\n",
            "[CV] n_estimators=200 ................................................\n",
            "[CV] .................... n_estimators=200, score=0.834, total=  25.0s\n",
            "[CV] n_estimators=200 ................................................\n",
            "[CV] .................... n_estimators=200, score=0.822, total=  25.6s\n",
            "[CV] n_estimators=200 ................................................\n",
            "[CV] .................... n_estimators=200, score=0.831, total=  25.7s\n"
          ],
          "name": "stdout"
        },
        {
          "output_type": "stream",
          "text": [
            "[Parallel(n_jobs=1)]: Done  20 out of  20 | elapsed:  4.4min finished\n"
          ],
          "name": "stderr"
        },
        {
          "output_type": "stream",
          "text": [
            "{'n_estimators': 200}\n"
          ],
          "name": "stdout"
        }
      ]
    },
    {
      "cell_type": "code",
      "metadata": {
        "colab": {
          "base_uri": "https://localhost:8080/"
        },
        "id": "0ZDCSORcW9ul",
        "outputId": "924b3bbe-39b4-46c2-97b7-ea0c9c7c78b0"
      },
      "source": [
        "print('Train Accuracy : %.3f'%CV_rfc.best_estimator_.score(X_train, y_train))\n",
        "print('Test Accuracy : %.3f'%CV_rfc.best_estimator_.score(X_test, y_test))\n",
        "print('Best Accuracy Through Grid Search : %.3f'%CV_rfc.best_score_)\n",
        "print('Best Parameters : ',CV_rfc.best_params_)"
      ],
      "execution_count": null,
      "outputs": [
        {
          "output_type": "stream",
          "text": [
            "Train Accuracy : 1.000\n",
            "Test Accuracy : 0.833\n",
            "Best Accuracy Through Grid Search : 0.830\n",
            "Best Parameters :  {'n_estimators': 200}\n"
          ],
          "name": "stdout"
        }
      ]
    },
    {
      "cell_type": "code",
      "metadata": {
        "id": "BT_t4UM9DnoJ"
      },
      "source": [
        "nes = np.array([10,50,100,150,200])\n",
        "train_scores, test_scores = validation_curve(rfc, X_train, y_train, param_name=\"n_estimators\", param_range=nes,\n",
        "    scoring=\"accuracy\", n_jobs=1,cv = 4)\n",
        "\n",
        "train_scores_mean = np.mean(train_scores, axis=1)\n",
        "train_scores_std = np.std(train_scores, axis=1)\n",
        "test_scores_mean = np.mean(test_scores, axis=1)\n",
        "test_scores_std = np.std(test_scores, axis=1)\n"
      ],
      "execution_count": null,
      "outputs": []
    },
    {
      "cell_type": "code",
      "metadata": {
        "colab": {
          "base_uri": "https://localhost:8080/",
          "height": 295
        },
        "id": "b7--70cjOiT8",
        "outputId": "767680f4-acc8-4498-981a-e71d36881dd8"
      },
      "source": [
        "\n",
        "plt.title(\"Validation Curve for Random Forest model\")\n",
        "plt.xlabel(\"# estimators\")\n",
        "plt.ylabel(\"Score\")\n",
        "#plt.ylim(0.0, 1.1)\n",
        "plt.xticks = np.arange(0,200)\n",
        "lw = 2\n",
        "#plt.semilogx(nes, train_scores_mean, label=\"MeanTraining score\",\n",
        "      #       color=\"darkorange\", lw=lw ,ls='--')\n",
        "plt.fill_between(nes, train_scores_mean - train_scores_std,\n",
        "                 train_scores_mean + train_scores_std, alpha=0.2,\n",
        "                 color=\"darkorange\", lw=lw)\n",
        "#plt.semilogx(nes, test_scores_mean, label=\"Cross-validation score\",\n",
        "           #  color=\"navy\", lw=lw,ls='--')\n",
        "plt.fill_between(nes, test_scores_mean - test_scores_std,\n",
        "                 test_scores_mean + test_scores_std, alpha=0.2,\n",
        "                 color=\"navy\", lw=lw)\n",
        "plt.plot(nes, train_scores_mean, label=\"MeanTraining score\",\n",
        "             color=\"darkorange\", lw=lw ,ls='--',marker ='o')\n",
        "\n",
        "plt.plot(nes, test_scores_mean, label=\"Cross-validation score\",\n",
        "             color=\"navy\", lw=lw,ls='--',marker ='o')\n",
        "plt.legend(loc=\"best\")\n",
        "plt.grid()\n",
        "plt.show()"
      ],
      "execution_count": null,
      "outputs": [
        {
          "output_type": "display_data",
          "data": {
            "image/png": "[encoded data removed]",
            "text/plain": [
              "<Figure size 432x288 with 1 Axes>"
            ]
          },
          "metadata": {
            "tags": [],
            "needs_background": "light"
          }
        }
      ]
    },
    {
      "cell_type": "code",
      "metadata": {
        "id": "0MDr7OXGPBkz"
      },
      "source": [
        "feature_importances = pd.DataFrame(CV_rfc.best_estimator_.feature_importances_,\n",
        "                                   index = X_traindf.columns,\n",
        "                                    columns=['importance']).sort_values('importance',ascending=False)"
      ],
      "execution_count": null,
      "outputs": []
    },
    {
      "cell_type": "code",
      "metadata": {
        "colab": {
          "base_uri": "https://localhost:8080/"
        },
        "id": "4LJGwuJaP8hN",
        "outputId": "b63c069d-cae0-4119-f0e4-d6eb415a064c"
      },
      "source": [
        "feature_imp = pd.Series(CV_rfc.best_estimator_.feature_importances_,X_traindf.columns).sort_values(ascending=False)\n",
        "feature_imp"
      ],
      "execution_count": null,
      "outputs": [
        {
          "output_type": "execute_result",
          "data": {
            "text/plain": [
              "0.0.37     0.026469\n",
              "0.0.178    0.024009\n",
              "1.0.42     0.014611\n",
              "0.0.354    0.013697\n",
              "0.0.295    0.011918\n",
              "             ...   \n",
              "0.0.389    0.000251\n",
              "1.0.1      0.000012\n",
              "0.0.1      0.000000\n",
              "1.0        0.000000\n",
              "0.0        0.000000\n",
              "Length: 1000, dtype: float64"
            ]
          },
          "metadata": {
            "tags": []
          },
          "execution_count": 31
        }
      ]
    },
    {
      "cell_type": "code",
      "metadata": {
        "colab": {
          "base_uri": "https://localhost:8080/",
          "height": 312
        },
        "id": "_xcVE7W4QHyI",
        "outputId": "d75f5ffc-03a0-4b3c-b80b-9717e45b2a3f"
      },
      "source": [
        "sns.barplot(x=feature_imp[0:5], y=feature_imp.index[0:5])\n",
        "# Add labels to your graph\n",
        "plt.xlabel('Random Forest model Feature Importance Score')\n",
        "plt.ylabel('Features')\n",
        "plt.title(\"Visualizing Important Features\")\n",
        "plt.legend()\n",
        "plt.show()"
      ],
      "execution_count": null,
      "outputs": [
        {
          "output_type": "stream",
          "text": [
            "No handles with labels found to put in legend.\n"
          ],
          "name": "stderr"
        },
        {
          "output_type": "display_data",
          "data": {
            "image/png": "[encoded data removed]",
            "text/plain": [
              "<Figure size 432x288 with 1 Axes>"
            ]
          },
          "metadata": {
            "tags": [],
            "needs_background": "light"
          }
        }
      ]
    },
    {
      "cell_type": "code",
      "metadata": {
        "colab": {
          "base_uri": "https://localhost:8080/",
          "height": 404
        },
        "id": "sAKOMnV0Pz1i",
        "outputId": "f129d1a5-a2a0-4949-826a-aecb6e6992f2"
      },
      "source": [
        "feature_importances "
      ],
      "execution_count": null,
      "outputs": [
        {
          "output_type": "execute_result",
          "data": {
            "text/html": [
              "<div>\n",
              "<style scoped>\n",
              "    .dataframe tbody tr th:only-of-type {\n",
              "        vertical-align: middle;\n",
              "    }\n",
              "\n",
              "    .dataframe tbody tr th {\n",
              "        vertical-align: top;\n",
              "    }\n",
              "\n",
              "    .dataframe thead th {\n",
              "        text-align: right;\n",
              "    }\n",
              "</style>\n",
              "<table border=\"1\" class=\"dataframe\">\n",
              "  <thead>\n",
              "    <tr style=\"text-align: right;\">\n",
              "      <th></th>\n",
              "      <th>importance</th>\n",
              "    </tr>\n",
              "  </thead>\n",
              "  <tbody>\n",
              "    <tr>\n",
              "      <th>0.0.37</th>\n",
              "      <td>0.026080</td>\n",
              "    </tr>\n",
              "    <tr>\n",
              "      <th>0.0.178</th>\n",
              "      <td>0.023604</td>\n",
              "    </tr>\n",
              "    <tr>\n",
              "      <th>1.0.42</th>\n",
              "      <td>0.015443</td>\n",
              "    </tr>\n",
              "    <tr>\n",
              "      <th>0.0.354</th>\n",
              "      <td>0.013558</td>\n",
              "    </tr>\n",
              "    <tr>\n",
              "      <th>0.0.295</th>\n",
              "      <td>0.012211</td>\n",
              "    </tr>\n",
              "    <tr>\n",
              "      <th>...</th>\n",
              "      <td>...</td>\n",
              "    </tr>\n",
              "    <tr>\n",
              "      <th>0.0.389</th>\n",
              "      <td>0.000242</td>\n",
              "    </tr>\n",
              "    <tr>\n",
              "      <th>1.0.1</th>\n",
              "      <td>0.000009</td>\n",
              "    </tr>\n",
              "    <tr>\n",
              "      <th>0.0.1</th>\n",
              "      <td>0.000000</td>\n",
              "    </tr>\n",
              "    <tr>\n",
              "      <th>1.0</th>\n",
              "      <td>0.000000</td>\n",
              "    </tr>\n",
              "    <tr>\n",
              "      <th>0.0</th>\n",
              "      <td>0.000000</td>\n",
              "    </tr>\n",
              "  </tbody>\n",
              "</table>\n",
              "<p>1000 rows × 1 columns</p>\n",
              "</div>"
            ],
            "text/plain": [
              "         importance\n",
              "0.0.37     0.026080\n",
              "0.0.178    0.023604\n",
              "1.0.42     0.015443\n",
              "0.0.354    0.013558\n",
              "0.0.295    0.012211\n",
              "...             ...\n",
              "0.0.389    0.000242\n",
              "1.0.1      0.000009\n",
              "0.0.1      0.000000\n",
              "1.0        0.000000\n",
              "0.0        0.000000\n",
              "\n",
              "[1000 rows x 1 columns]"
            ]
          },
          "metadata": {
            "tags": []
          },
          "execution_count": 152
        }
      ]
    },
    {
      "cell_type": "code",
      "metadata": {
        "colab": {
          "base_uri": "https://localhost:8080/"
        },
        "id": "8MB2OHVRQ6_f",
        "outputId": "0cee2e08-fe52-4381-9bd1-b5d04d5fd817"
      },
      "source": [
        "feature_imp[1:5]"
      ],
      "execution_count": null,
      "outputs": [
        {
          "output_type": "execute_result",
          "data": {
            "text/plain": [
              "0.0.178    0.023604\n",
              "1.0.42     0.015443\n",
              "0.0.354    0.013558\n",
              "0.0.295    0.012211\n",
              "dtype: float64"
            ]
          },
          "metadata": {
            "tags": []
          },
          "execution_count": 156
        }
      ]
    },
    {
      "cell_type": "markdown",
      "metadata": {
        "id": "bryCcWj_n7pb"
      },
      "source": [
        "# Gradient Boosted Regression"
      ]
    },
    {
      "cell_type": "code",
      "metadata": {
        "colab": {
          "base_uri": "https://localhost:8080/"
        },
        "id": "DnN_uh-ki9TZ",
        "outputId": "e8e99173-c088-4d99-bc0d-fc0e2119b2d2"
      },
      "source": [
        "# K-fold CV for Gradient Boosted Regression Trees\n",
        "scores = []\n",
        "gbt = GradientBoostingClassifier(learning_rate=0.1, n_estimators=100,max_depth=3, min_samples_split=2, min_samples_leaf=1, subsample=1,max_features='sqrt', random_state=10)\n",
        "cv = KFold(n_splits=4, random_state=42, shuffle=False)\n",
        "i = 1\n",
        "for train_index, test_index in cv.split(X_train):\n",
        "    X_train_fold, X_test_fold, y_train_fold, y_test_fold = X_train[train_index], X_train[test_index], y_train[train_index], y_train[test_index]\n",
        "    gbt.fit(X_train_fold, y_train_fold)\n",
        "    scores.append(gbt.score(X_test_fold, y_test_fold))\n",
        "    print('Processing Fold #', i)\n",
        "    print(\"  - Train partition shape: \", X_train_fold.shape)\n",
        "    print(\"  - Test partition shape: \", X_test_fold.shape)\n",
        "    print(\"  - Training score = \", gbt.score(X_train_fold, y_train_fold))\n",
        "    print(\"  - Testing score = \", gbt.score(X_test_fold, y_test_fold))\n",
        "    \n",
        "    i += 1"
      ],
      "execution_count": null,
      "outputs": [
        {
          "output_type": "stream",
          "text": [
            "Processing Fold # 1\n",
            "  - Train partition shape:  (18749, 1000)\n",
            "  - Test partition shape:  (6250, 1000)\n",
            "  - Training score =  0.8218038295375754\n",
            "  - Testing score =  0.81296\n",
            "Processing Fold # 2\n",
            "  - Train partition shape:  (18749, 1000)\n",
            "  - Test partition shape:  (6250, 1000)\n",
            "  - Training score =  0.8247373193236973\n",
            "  - Testing score =  0.8152\n",
            "Processing Fold # 3\n",
            "  - Train partition shape:  (18749, 1000)\n",
            "  - Test partition shape:  (6250, 1000)\n",
            "  - Training score =  0.8216438210037869\n",
            "  - Testing score =  0.80576\n",
            "Processing Fold # 4\n",
            "  - Train partition shape:  (18750, 1000)\n",
            "  - Test partition shape:  (6249, 1000)\n",
            "  - Training score =  0.82256\n",
            "  - Testing score =  0.8206112978076492\n"
          ],
          "name": "stdout"
        }
      ]
    },
    {
      "cell_type": "code",
      "metadata": {
        "id": "0keEAnwmZrAH"
      },
      "source": [
        "gbt = GradientBoostingClassifier(learning_rate=0.1, n_estimators=100,max_depth=3, min_samples_split=2, min_samples_leaf=1, subsample=1,max_features='sqrt', random_state=10)\n",
        "gbt_score_all = cross_val_score(gbt, X_train, y_train, cv=4)"
      ],
      "execution_count": null,
      "outputs": []
    },
    {
      "cell_type": "code",
      "metadata": {
        "colab": {
          "base_uri": "https://localhost:8080/",
          "height": 295
        },
        "id": "7AJqBbkMeJmY",
        "outputId": "726a2ec1-2a0d-45b4-be43-9f6d9499bb02"
      },
      "source": [
        "# plot the change in the average accuracy according to k \n",
        "plt.figure(figsize=(3.5,4))\n",
        "plt.title(\"Gradient Boosted model\")\n",
        "plt.xlabel(\"k folds\")\n",
        "plt.ylabel(\"Average Accuracy\")\n",
        "plt.xticks =np.arange(1, 5, 1)\n",
        "plt.grid()\n",
        "plt.plot(np.arange(1, 5, 1),gbt_score_all,'o-');"
      ],
      "execution_count": null,
      "outputs": [
        {
          "output_type": "display_data",
          "data": {
            "image/png": "[encoded data removed]",
            "text/plain": [
              "<Figure size 252x288 with 1 Axes>"
            ]
          },
          "metadata": {
            "tags": [],
            "needs_background": "light"
          }
        }
      ]
    },
    {
      "cell_type": "code",
      "metadata": {
        "id": "sghQXb1UeTvX"
      },
      "source": [
        "feat_imp = pd.Series(gbt.feature_importances_, X_traindf.columns).sort_values(ascending=False)\n",
        "feat_imp.plot(kind='bar', title='Importance of Features')\n",
        "plt.ylabel('Feature Importance Score')\n",
        "print('Accuracy of the GBM on test set: {:.3f}'.format(gbt.score(X_test, y_test)))"
      ],
      "execution_count": null,
      "outputs": []
    },
    {
      "cell_type": "code",
      "metadata": {
        "id": "AcpoE6I4fkkO"
      },
      "source": [
        "p_test3 = {'learning_rate':[0.15,0.1,0.05,0.01,0.001], 'n_estimators':[50,100,250,500]}\n",
        "\n",
        "tuning = GridSearchCV(estimator =GradientBoostingClassifier(max_depth=4, min_samples_split=2, min_samples_leaf=1, subsample=1,max_features='sqrt', random_state=10), \n",
        "            param_grid = p_test3, scoring='accuracy',n_jobs=4,iid=False, cv=4)\n",
        "tuning.fit(X_train,y_train)\n"
      ],
      "execution_count": null,
      "outputs": []
    },
    {
      "cell_type": "code",
      "metadata": {
        "colab": {
          "base_uri": "https://localhost:8080/"
        },
        "id": "PR5gpEyPhBiA",
        "outputId": "d784df97-e61b-4882-b7a1-6912e633ae6e"
      },
      "source": [
        "print('Train Accuracy : %.3f'%tuning.best_estimator_.score(X_train, y_train))\n",
        "print('Test Accuracy : %.3f'%tuning.best_estimator_.score(X_test, y_test))\n",
        "print('Best Accuracy Through Grid Search : %.3f'%tuning.best_score_)\n",
        "print('Best Parameters : ',tuning.best_params_)"
      ],
      "execution_count": null,
      "outputs": [
        {
          "output_type": "stream",
          "text": [
            "Train Accuracy : 0.920\n",
            "Test Accuracy : 0.857\n",
            "Best Accuracy Through Grid Search : 0.856\n",
            "Best Parameters :  {'learning_rate': 0.15, 'n_estimators': 500}\n"
          ],
          "name": "stdout"
        }
      ]
    },
    {
      "cell_type": "code",
      "metadata": {
        "id": "9PYGCnJDwhgh"
      },
      "source": [
        "nes2=np.array([50,100,250,500])\n",
        "train_scores, test_scores = validation_curve(GradientBoostingClassifier(max_depth=4, min_samples_split=2, min_samples_leaf=1, subsample=1,max_features='sqrt', random_state=10),\n",
        "                                             X_train, y_train, param_name=\"n_estimators\", param_range=nes2,\n",
        "    scoring=\"accuracy\", n_jobs=1,cv = 4)\n",
        "\n",
        "train_scores_mean = np.mean(train_scores, axis=1)\n",
        "train_scores_std = np.std(train_scores, axis=1)\n",
        "test_scores_mean = np.mean(test_scores, axis=1)\n",
        "test_scores_std = np.std(test_scores, axis=1)"
      ],
      "execution_count": null,
      "outputs": []
    },
    {
      "cell_type": "code",
      "metadata": {
        "colab": {
          "base_uri": "https://localhost:8080/",
          "height": 295
        },
        "id": "iwZq8OpdyoNe",
        "outputId": "bf5a32db-107d-4417-fa45-b3a018c17df4"
      },
      "source": [
        "plt.title(\"Validation Curve for Gradient boost model\")\n",
        "plt.xlabel(\"Values for hyperparameter n estimators\")\n",
        "plt.ylabel(\"Score\")\n",
        "#plt.ylim(0.0, 1.1)\n",
        "lw = 2\n",
        "plt.fill_between(nes2, train_scores_mean - train_scores_std,\n",
        "                 train_scores_mean + train_scores_std, alpha=0.2,\n",
        "                 color=\"darkorange\", lw=lw)\n",
        "plt.fill_between(nes2, test_scores_mean - test_scores_std,\n",
        "                 test_scores_mean + test_scores_std, alpha=0.2,\n",
        "                 color=\"navy\", lw=lw)\n",
        "plt.plot(nes2, train_scores_mean, label=\"MeanTraining score\",\n",
        "             color=\"darkorange\", lw=lw ,ls='--',marker ='o')\n",
        "\n",
        "plt.plot(nes2, test_scores_mean, label=\"Cross-validation score\",\n",
        "             color=\"navy\", lw=lw,ls='--',marker ='o')\n",
        "plt.legend(loc=\"best\")\n",
        "plt.grid()\n",
        "plt.show()"
      ],
      "execution_count": null,
      "outputs": [
        {
          "output_type": "display_data",
          "data": {
            "image/png": "[encoded data removed]",
            "text/plain": [
              "<Figure size 432x288 with 1 Axes>"
            ]
          },
          "metadata": {
            "tags": [],
            "needs_background": "light"
          }
        }
      ]
    },
    {
      "cell_type": "code",
      "metadata": {
        "id": "JfJAgmzCzKHN"
      },
      "source": [
        "lrs2=np.array([0.15,0.1,0.05,0.01,0.001])\n",
        "train_scores, test_scores = validation_curve(GradientBoostingClassifier(max_depth=4, min_samples_split=2, min_samples_leaf=1, subsample=1,max_features='sqrt', random_state=10),\n",
        "                                             X_train, y_train, param_name=\"learning_rate\", param_range=lrs2,\n",
        "    scoring=\"accuracy\", n_jobs=1,cv = 4)\n",
        "\n",
        "train_scores_mean = np.mean(train_scores, axis=1)\n",
        "train_scores_std = np.std(train_scores, axis=1)\n",
        "test_scores_mean = np.mean(test_scores, axis=1)\n",
        "test_scores_std = np.std(test_scores, axis=1)"
      ],
      "execution_count": null,
      "outputs": []
    },
    {
      "cell_type": "code",
      "metadata": {
        "colab": {
          "base_uri": "https://localhost:8080/",
          "height": 296
        },
        "id": "oURAJOHlzVXG",
        "outputId": "677b889b-8ca9-4d6a-c7c2-eea09da20360"
      },
      "source": [
        "plt.title(\"Validation Curve for Gradient boost model\")\n",
        "plt.xlabel(\"Values for hyperparameter learning_rate\")\n",
        "plt.ylabel(\"Score\")\n",
        "#plt.ylim(0.0, 1.1)\n",
        "\n",
        "lw = 2\n",
        "plt.fill_between(lrs2, train_scores_mean - train_scores_std,\n",
        "                 train_scores_mean + train_scores_std, alpha=0.2,\n",
        "                 color=\"darkorange\", lw=lw)\n",
        "plt.fill_between(lrs2, test_scores_mean - test_scores_std,\n",
        "                 test_scores_mean + test_scores_std, alpha=0.2,\n",
        "                 color=\"navy\", lw=lw)\n",
        "plt.plot(lrs2, train_scores_mean, label=\"MeanTraining score\",\n",
        "             color=\"darkorange\", lw=lw ,ls='--',marker ='o')\n",
        "\n",
        "plt.plot(lrs2, test_scores_mean, label=\"Cross-validation score\",\n",
        "             color=\"navy\", lw=lw,ls='--',marker ='o')\n",
        "plt.legend(loc=\"best\")\n",
        "plt.grid()\n",
        "plt.show()"
      ],
      "execution_count": null,
      "outputs": [
        {
          "output_type": "display_data",
          "data": {
            "image/png": "[encoded data removed]",
            "text/plain": [
              "<Figure size 432x288 with 1 Axes>"
            ]
          },
          "metadata": {
            "tags": [],
            "needs_background": "light"
          }
        }
      ]
    },
    {
      "cell_type": "code",
      "metadata": {
        "colab": {
          "base_uri": "https://localhost:8080/"
        },
        "id": "k5AYGXl4oheV",
        "outputId": "7563e2d3-72f9-4e13-bb1a-a3045be8898f"
      },
      "source": [
        "p_test2 = {'max_depth':[2,3,4,5,6,7] }\n",
        "tuning2 = GridSearchCV(estimator =GradientBoostingClassifier(learning_rate=0.15,n_estimators=500, min_samples_split=2, min_samples_leaf=1, subsample=1,max_features='sqrt', random_state=10), \n",
        "            param_grid = p_test2, scoring='accuracy',n_jobs=4,iid=False, cv=4)\n",
        "tuning2.fit(X_train,y_train)"
      ],
      "execution_count": null,
      "outputs": [
        {
          "output_type": "execute_result",
          "data": {
            "text/plain": [
              "GridSearchCV(cv=4, error_score=nan,\n",
              "             estimator=GradientBoostingClassifier(ccp_alpha=0.0,\n",
              "                                                  criterion='friedman_mse',\n",
              "                                                  init=None, learning_rate=0.15,\n",
              "                                                  loss='deviance', max_depth=3,\n",
              "                                                  max_features='sqrt',\n",
              "                                                  max_leaf_nodes=None,\n",
              "                                                  min_impurity_decrease=0.0,\n",
              "                                                  min_impurity_split=None,\n",
              "                                                  min_samples_leaf=1,\n",
              "                                                  min_samples_split=2,\n",
              "                                                  min_weight_fraction_leaf=0.0,\n",
              "                                                  n_estimators=500,\n",
              "                                                  n_iter_no_change=None,\n",
              "                                                  presort='deprecated',\n",
              "                                                  random_state=10, subsample=1,\n",
              "                                                  tol=0.0001,\n",
              "                                                  validation_fraction=0.1,\n",
              "                                                  verbose=0, warm_start=False),\n",
              "             iid=False, n_jobs=4, param_grid={'max_depth': [2, 3, 4, 5, 6, 7]},\n",
              "             pre_dispatch='2*n_jobs', refit=True, return_train_score=False,\n",
              "             scoring='accuracy', verbose=0)"
            ]
          },
          "metadata": {
            "tags": []
          },
          "execution_count": 8
        }
      ]
    },
    {
      "cell_type": "code",
      "metadata": {
        "colab": {
          "base_uri": "https://localhost:8080/"
        },
        "id": "JE536YnHolSC",
        "outputId": "b511539d-19b5-45d8-b30e-c296f91405ee"
      },
      "source": [
        "print('Train Accuracy : %.3f'%tuning2.best_estimator_.score(X_train, y_train))\n",
        "print('Test Accuracy : %.3f'%tuning2.best_estimator_.score(X_test, y_test))\n",
        "print('Best Accuracy Through Grid Search : %.3f'%tuning2.best_score_)\n",
        "print('Best Parameters : ',tuning2.best_params_)"
      ],
      "execution_count": null,
      "outputs": [
        {
          "output_type": "stream",
          "text": [
            "Train Accuracy : 0.981\n",
            "Test Accuracy : 0.857\n",
            "Best Accuracy Through Grid Search : 0.857\n",
            "Best Parameters :  {'max_depth': 6}\n"
          ],
          "name": "stdout"
        }
      ]
    },
    {
      "cell_type": "code",
      "metadata": {
        "id": "EYWS-WLO1TlQ"
      },
      "source": [
        "max_depth2=np.array([2,3,4,5,6,7])\n",
        "train_scores, test_scores = validation_curve(GradientBoostingClassifier(min_samples_split=2, min_samples_leaf=1, subsample=1,max_features='sqrt', random_state=10),\n",
        "                                             X_train, y_train, param_name=\"max_depth\", param_range=max_depth2,\n",
        "    scoring=\"accuracy\", n_jobs=1,cv = 4)\n",
        "\n",
        "train_scores_mean = np.mean(train_scores, axis=1)\n",
        "train_scores_std = np.std(train_scores, axis=1)\n",
        "test_scores_mean = np.mean(test_scores, axis=1)\n",
        "test_scores_std = np.std(test_scores, axis=1)"
      ],
      "execution_count": null,
      "outputs": []
    },
    {
      "cell_type": "code",
      "metadata": {
        "colab": {
          "base_uri": "https://localhost:8080/",
          "height": 296
        },
        "id": "S4EsY-A71do-",
        "outputId": "86a5c058-51b8-4e54-ed25-842939f86cc0"
      },
      "source": [
        "plt.title(\"Validation Curve for Gradient boost model\")\n",
        "plt.xlabel(\"Values for hyperparameter max_depth\")\n",
        "plt.ylabel(\"Score\")\n",
        "#plt.ylim(0.0, 1.1)\n",
        "\n",
        "lw = 2\n",
        "plt.fill_between(max_depth2, train_scores_mean - train_scores_std,\n",
        "                 train_scores_mean + train_scores_std, alpha=0.2,\n",
        "                 color=\"darkorange\", lw=lw)\n",
        "plt.fill_between(max_depth2, test_scores_mean - test_scores_std,\n",
        "                 test_scores_mean + test_scores_std, alpha=0.2,\n",
        "                 color=\"navy\", lw=lw)\n",
        "plt.plot(max_depth2, train_scores_mean, label=\"MeanTraining score\",\n",
        "             color=\"darkorange\", lw=lw ,ls='--',marker ='o')\n",
        "\n",
        "plt.plot(max_depth2, test_scores_mean, label=\"Cross-validation score\",\n",
        "             color=\"navy\", lw=lw,ls='--',marker ='o')\n",
        "plt.legend(loc=\"best\")\n",
        "plt.grid()\n",
        "plt.show()"
      ],
      "execution_count": null,
      "outputs": [
        {
          "output_type": "display_data",
          "data": {
            "image/png": "[encoded data removed]",
            "text/plain": [
              "<Figure size 432x288 with 1 Axes>"
            ]
          },
          "metadata": {
            "tags": [],
            "needs_background": "light"
          }
        }
      ]
    },
    {
      "cell_type": "code",
      "metadata": {
        "colab": {
          "base_uri": "https://localhost:8080/"
        },
        "id": "kxIqnxHd3X8C",
        "outputId": "0acea667-a32e-48af-a58a-65852b79650f"
      },
      "source": [
        "new=GradientBoostingClassifier(learning_rate=0.15, n_estimators=500,max_depth=6, min_samples_split=2, min_samples_leaf=1, subsample=1,max_features='sqrt', random_state=10)\n",
        "new.fit(X_train,y_train)\n",
        "print(\"  - NEW Gradient boosting Training score = \", new.score(X_train, y_train))\n",
        "print(\"  - NEW Gradient boosting Testing score = \", new.score(X_test, y_test))"
      ],
      "execution_count": null,
      "outputs": [
        {
          "output_type": "stream",
          "text": [
            "  - NEW Gradient boosting Training score =  0.9810392415696628\n",
            "  - NEW Gradient boosting Testing score =  0.8572742909716389\n"
          ],
          "name": "stdout"
        }
      ]
    },
    {
      "cell_type": "code",
      "metadata": {
        "id": "oUTwmyqj4VbO"
      },
      "source": [
        "feature_importances_boost = pd.DataFrame(new.feature_importances_,\n",
        "                                   index = X_traindf.columns,\n",
        "                                    columns=['importance']).sort_values('importance',ascending=False)"
      ],
      "execution_count": null,
      "outputs": []
    },
    {
      "cell_type": "code",
      "metadata": {
        "colab": {
          "base_uri": "https://localhost:8080/",
          "height": 404
        },
        "id": "F2KWQHpY4eH_",
        "outputId": "cadd7452-bb8c-49e5-cf38-37aee35184c6"
      },
      "source": [
        "feature_importances_boost"
      ],
      "execution_count": null,
      "outputs": [
        {
          "output_type": "execute_result",
          "data": {
            "text/html": [
              "<div>\n",
              "<style scoped>\n",
              "    .dataframe tbody tr th:only-of-type {\n",
              "        vertical-align: middle;\n",
              "    }\n",
              "\n",
              "    .dataframe tbody tr th {\n",
              "        vertical-align: top;\n",
              "    }\n",
              "\n",
              "    .dataframe thead th {\n",
              "        text-align: right;\n",
              "    }\n",
              "</style>\n",
              "<table border=\"1\" class=\"dataframe\">\n",
              "  <thead>\n",
              "    <tr style=\"text-align: right;\">\n",
              "      <th></th>\n",
              "      <th>importance</th>\n",
              "    </tr>\n",
              "  </thead>\n",
              "  <tbody>\n",
              "    <tr>\n",
              "      <th>0.0.37</th>\n",
              "      <td>0.060373</td>\n",
              "    </tr>\n",
              "    <tr>\n",
              "      <th>0.0.178</th>\n",
              "      <td>0.031776</td>\n",
              "    </tr>\n",
              "    <tr>\n",
              "      <th>0.0.354</th>\n",
              "      <td>0.031138</td>\n",
              "    </tr>\n",
              "    <tr>\n",
              "      <th>1.0.42</th>\n",
              "      <td>0.027585</td>\n",
              "    </tr>\n",
              "    <tr>\n",
              "      <th>0.0.295</th>\n",
              "      <td>0.020913</td>\n",
              "    </tr>\n",
              "    <tr>\n",
              "      <th>...</th>\n",
              "      <td>...</td>\n",
              "    </tr>\n",
              "    <tr>\n",
              "      <th>0.0.552</th>\n",
              "      <td>0.000043</td>\n",
              "    </tr>\n",
              "    <tr>\n",
              "      <th>1.0</th>\n",
              "      <td>0.000000</td>\n",
              "    </tr>\n",
              "    <tr>\n",
              "      <th>0.0.1</th>\n",
              "      <td>0.000000</td>\n",
              "    </tr>\n",
              "    <tr>\n",
              "      <th>1.0.1</th>\n",
              "      <td>0.000000</td>\n",
              "    </tr>\n",
              "    <tr>\n",
              "      <th>0.0</th>\n",
              "      <td>0.000000</td>\n",
              "    </tr>\n",
              "  </tbody>\n",
              "</table>\n",
              "<p>1000 rows × 1 columns</p>\n",
              "</div>"
            ],
            "text/plain": [
              "         importance\n",
              "0.0.37     0.060373\n",
              "0.0.178    0.031776\n",
              "0.0.354    0.031138\n",
              "1.0.42     0.027585\n",
              "0.0.295    0.020913\n",
              "...             ...\n",
              "0.0.552    0.000043\n",
              "1.0        0.000000\n",
              "0.0.1      0.000000\n",
              "1.0.1      0.000000\n",
              "0.0        0.000000\n",
              "\n",
              "[1000 rows x 1 columns]"
            ]
          },
          "metadata": {
            "tags": []
          },
          "execution_count": 23
        }
      ]
    },
    {
      "cell_type": "code",
      "metadata": {
        "colab": {
          "base_uri": "https://localhost:8080/",
          "height": 295
        },
        "id": "vzDhsLvnTUDg",
        "outputId": "6356fd34-ef36-4499-97b2-231a50f57b24"
      },
      "source": [
        "cnf_matrix_new = confusion_matrix(y_test,new.predict(X_test))\n",
        "ax= plt.subplot()\n",
        "sns.heatmap(cnf_matrix_new, annot=True, ax = ax,fmt='d'); #annot=True to annotate cells\n",
        "\n",
        "# labels, title and ticks\n",
        "ax.set_xlabel('Predicted labels');ax.set_ylabel('True labels'); \n",
        "ax.set_title( ' Naive Bayes model Confusion Matrix with new optimum parameters ' ); \n",
        "ax.xaxis.set_ticklabels(['negative', 'positive']); ax.yaxis.set_ticklabels(['negative', 'positive']);"
      ],
      "execution_count": null,
      "outputs": [
        {
          "output_type": "display_data",
          "data": {
            "image/png": "[encoded data removed]",
            "text/plain": [
              "<Figure size 432x288 with 2 Axes>"
            ]
          },
          "metadata": {
            "tags": [],
            "needs_background": "light"
          }
        }
      ]
    },
    {
      "cell_type": "code",
      "metadata": {
        "colab": {
          "base_uri": "https://localhost:8080/"
        },
        "id": "ia7hW8aY4uFd",
        "outputId": "9077c44e-8b99-4b7c-da5a-fea2bfd26dcf"
      },
      "source": [
        "feature_imp_boost = pd.Series(new.feature_importances_,X_traindf.columns).sort_values(ascending=False)\n",
        "feature_imp_boost"
      ],
      "execution_count": null,
      "outputs": [
        {
          "output_type": "execute_result",
          "data": {
            "text/plain": [
              "0.0.37     0.060373\n",
              "0.0.178    0.031776\n",
              "0.0.354    0.031138\n",
              "1.0.42     0.027585\n",
              "0.0.295    0.020913\n",
              "             ...   \n",
              "0.0.552    0.000043\n",
              "0.0.1      0.000000\n",
              "1.0.1      0.000000\n",
              "1.0        0.000000\n",
              "0.0        0.000000\n",
              "Length: 1000, dtype: float64"
            ]
          },
          "metadata": {
            "tags": []
          },
          "execution_count": 25
        }
      ]
    },
    {
      "cell_type": "code",
      "metadata": {
        "colab": {
          "base_uri": "https://localhost:8080/",
          "height": 312
        },
        "id": "xWIjsoZU46yp",
        "outputId": "2361d349-0675-42da-b274-644092b73745"
      },
      "source": [
        "sns.barplot(x=feature_imp_boost[0:5], y=feature_imp_boost.index[0:5])\n",
        "# Add labels to your graph\n",
        "plt.xlabel('Gradient boosting model Feature Importance Score')\n",
        "plt.ylabel('Features')\n",
        "plt.title(\"Visualizing Important Features for new optimum parameters\")\n",
        "plt.legend()\n",
        "plt.show()"
      ],
      "execution_count": null,
      "outputs": [
        {
          "output_type": "stream",
          "text": [
            "No handles with labels found to put in legend.\n"
          ],
          "name": "stderr"
        },
        {
          "output_type": "display_data",
          "data": {
            "image/png": "[encoded data removed]",
            "text/plain": [
              "<Figure size 432x288 with 1 Axes>"
            ]
          },
          "metadata": {
            "tags": [],
            "needs_background": "light"
          }
        }
      ]
    },
    {
      "cell_type": "code",
      "metadata": {
        "id": "2kYq3uwAsr7I"
      },
      "source": [
        "#Evaluation of Model - Confusion Matrix Plot\n",
        "import itertools  \n",
        "def plot_confusion_matrix(cm, classes,\n",
        "                          normalize=False,\n",
        "                          title='Confusion matrix',\n",
        "                          cmap=plt.cm.Blues):\n",
        "    \"\"\"\n",
        "    This function prints and plots the confusion matrix.\n",
        "    Normalization can be applied by setting `normalize=True`.\n",
        "    \"\"\"\n",
        "    if normalize:\n",
        "        cm = cm.astype('float') / cm.sum(axis=1)[:, np.newaxis]\n",
        "        print(\"Normalized confusion matrix\")\n",
        "    else:\n",
        "        print('Confusion matrix, without normalization')\n",
        "\n",
        "    print(cm)\n",
        "\n",
        "    plt.imshow(cm, interpolation='nearest', cmap=cmap)\n",
        "    plt.title(title)\n",
        "    plt.colorbar()\n",
        "    tick_marks = np.arange(len(classes))\n",
        "    plt.xticks(tick_marks, classes, rotation=45)\n",
        "    plt.yticks(tick_marks, classes)\n",
        "\n",
        "    fmt = '.2f' if normalize else 'd'\n",
        "    thresh = cm.max() / 2.\n",
        "    for i, j in itertools.product(range(cm.shape[0]), range(cm.shape[1])):\n",
        "        plt.text(j, i, format(cm[i, j], fmt),\n",
        "                 horizontalalignment=\"center\",\n",
        "                 color=\"white\" if cm[i, j] > thresh else \"black\")\n",
        "\n",
        "    plt.ylabel('True label')\n",
        "    plt.xlabel('Predicted label')\n",
        "    plt.tight_layout()\n",
        "\n",
        "\n"
      ],
      "execution_count": null,
      "outputs": []
    }
  ]
}